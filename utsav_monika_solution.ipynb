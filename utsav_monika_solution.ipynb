{
 "cells": [
  {
   "cell_type": "markdown",
   "metadata": {},
   "source": [
    "# Gesture Recognition\n",
    "In this group project, you are going to build a 3D Conv model that will be able to predict the 5 gestures correctly. Please import the following libraries to get started. Once you have completed the code you can download the notebook for making a submission."
   ]
  },
  {
   "cell_type": "code",
   "execution_count": 1,
   "metadata": {
    "vscode": {
     "languageId": "python"
    }
   },
   "outputs": [],
   "source": [
    "import numpy as np\n",
    "import os\n",
    "from imageio import imread\n",
    "from skimage.transform import resize\n",
    "import datetime\n",
    "import os"
   ]
  },
  {
   "cell_type": "markdown",
   "metadata": {},
   "source": [
    "We set the random seed so that the results don't vary drastically."
   ]
  },
  {
   "cell_type": "code",
   "execution_count": 2,
   "metadata": {
    "vscode": {
     "languageId": "python"
    }
   },
   "outputs": [],
   "source": [
    "np.random.seed(30)\n",
    "import random as rn\n",
    "rn.seed(30)\n",
    "from tensorflow import keras\n",
    "import tensorflow as tf\n",
    "tf.random.set_seed(30)"
   ]
  },
  {
   "cell_type": "markdown",
   "metadata": {},
   "source": [
    "In this block, you read the folder names for training and validation. You also set the `batch_size` here. Note that you set the batch size in such a way that you are able to use the GPU in full capacity. You keep increasing the batch size until the machine throws an error."
   ]
  },
  {
   "cell_type": "markdown",
   "metadata": {},
   "source": [
    "**data path: /home/datasets/Project_data**"
   ]
  },
  {
   "cell_type": "code",
   "execution_count": 3,
   "metadata": {
    "vscode": {
     "languageId": "python"
    }
   },
   "outputs": [],
   "source": [
    "train_doc = np.random.permutation(open('/home/datasets/Project_data/train.csv').readlines())\n",
    "val_doc = np.random.permutation(open('/home/datasets/Project_data/val.csv').readlines())\n",
    "batch_size = 64 #experiment with the batch size"
   ]
  },
  {
   "cell_type": "markdown",
   "metadata": {},
   "source": [
    "## Generator\n",
    "This is one of the most important part of the code. The overall structure of the generator has been given. In the generator, you are going to preprocess the images as you have images of 2 different dimensions as well as create a batch of video frames. You have to experiment with `img_idx`, `y`,`z` and normalization such that you get high accuracy."
   ]
  },
  {
   "cell_type": "code",
   "execution_count": 4,
   "metadata": {
    "vscode": {
     "languageId": "python"
    }
   },
   "outputs": [],
   "source": [
    "def generator(source_path, folder_list, batch_size, ablation = False):\n",
    "    print( 'Source path = ', source_path, '; batch size =', batch_size)\n",
    "    #create a list of image numbers you want to use for a particular video\n",
    "    #Since back-to-back frames will have similar information we can choose only the even frames\n",
    "    img_idx = [0,1,2,4,6,8,10,12,14,16,18,20,22,24,26,27,28,29]\n",
    "    while True:\n",
    "        if ablation==True: \n",
    "          f = np.random.permutation(folder_list)\n",
    "          t = np.random.choice(f, 10) # work with only 10 folders for ablation\n",
    "        else:\n",
    "          t = np.random.permutation(folder_list)\n",
    "        # calculate the number of batches\n",
    "        num_batches = int(len(t)/batch_size)\n",
    "        for batch in range(num_batches): # we iterate over the number of batches\n",
    "            batch_data = np.zeros((batch_size,len(img_idx),120,120,3)) # x is the number of images you use for each video, (y,z) is the final size of the input images and 3 is the number of channels RGB\n",
    "            batch_labels = np.zeros((batch_size,5)) # batch_labels is the one hot representation of the output\n",
    "            for folder in range(batch_size): # iterate over the batch_size\n",
    "                imgs = os.listdir(source_path+'/'+ t[folder + (batch*batch_size)].split(';')[0]) # read all the images in the folder\n",
    "                for idx,item in enumerate(img_idx): #  Iterate iver the frames/images of a folder to read them in\n",
    "                    image = imread(source_path+'/'+ t[folder + (batch*batch_size)].strip().split(';')[0]+'/'+imgs[item]).astype(np.float32)\n",
    "\n",
    "                    #crop the images and resize them. Note that the images are of 2 different shape\n",
    "                    #and the conv3D will throw error if the inputs in a batch have different shapes\n",
    "\n",
    "                   \n",
    "                    if image.shape[1] == 160:\n",
    "                        image = resize(image[:,20:140,:],(120,120)).astype(np.float32)\n",
    "                    else:\n",
    "                        image = resize(image,(120,120)).astype(np.float32)\n",
    "\n",
    "\n",
    "                    #Normalizing using the mean of the 3 channels.\n",
    "                    batch_data[folder,idx,:,:,0] = image[:,:,0] - 104\n",
    "                    batch_data[folder,idx,:,:,1] = image[:,:,1] - 117\n",
    "                    batch_data[folder,idx,:,:,2] = image[:,:,2] - 123\n",
    "\n",
    "\n",
    "                batch_labels[folder, int(t[folder + (batch*batch_size)].strip().split(';')[2])] = 1\n",
    "            yield batch_data, batch_labels #you yield the batch_data and the batch_labels, remember what does yield do\n",
    "\n",
    "\n",
    "        # write the code for the remaining data points which are left after full batches\n",
    "        if (len(t)%batch_size) != 0:\n",
    "            batch_data = np.zeros((len(t)%batch_size,len(img_idx),120,120,3))\n",
    "            batch_labels = np.zeros((len(t)%batch_size,5))\n",
    "            for folder in range(len(t)%batch_size):\n",
    "                imgs = os.listdir(source_path+'/'+ t[folder + (num_batches*batch_size)].split(';')[0])\n",
    "                for idx,item in enumerate(img_idx):\n",
    "                    image = imread(source_path+'/'+ t[folder + (num_batches*batch_size)].strip().split(';')[0]+'/'+imgs[item]).astype(np.float32)\n",
    "                    if image.shape[1] == 160:\n",
    "                        image = resize(image[:,20:140,:],(120,120)).astype(np.float32)\n",
    "                    else:\n",
    "                        image = resize(image,(120,120)).astype(np.float32)\n",
    "\n",
    "                    batch_data[folder,idx,:,:,0] = image[:,:,0] - 104\n",
    "                    batch_data[folder,idx,:,:,1] = image[:,:,1] - 117\n",
    "                    batch_data[folder,idx,:,:,2] = image[:,:,2] - 123\n",
    "\n",
    "                batch_labels[folder, int(t[folder + (num_batches*batch_size)].strip().split(';')[2])] = 1\n",
    "\n",
    "            yield batch_data, batch_labels\n"
   ]
  },
  {
   "cell_type": "markdown",
   "metadata": {},
   "source": [
    "Note here that a video is represented above in the generator as (number of images, height, width, number of channels). Take this into consideration while creating the model architecture."
   ]
  },
  {
   "cell_type": "code",
   "execution_count": 6,
   "metadata": {
    "vscode": {
     "languageId": "python"
    }
   },
   "outputs": [
    {
     "name": "stdout",
     "output_type": "stream",
     "text": [
      "# training sequences = 663\n",
      "# validation sequences = 100\n",
      "# epochs = 10\n"
     ]
    }
   ],
   "source": [
    "curr_dt_time = datetime.datetime.now()\n",
    "train_path = '/home/datasets/Project_data/train'\n",
    "val_path = '/home/datasets/Project_data/val'\n",
    "num_train_sequences = len(train_doc)\n",
    "print('# training sequences =', num_train_sequences)\n",
    "num_val_sequences = len(val_doc)\n",
    "print('# validation sequences =', num_val_sequences)\n",
    "num_epochs = 10 # choose the number of epochs\n",
    "print ('# epochs =', num_epochs)"
   ]
  },
  {
   "cell_type": "markdown",
   "metadata": {},
   "source": [
    "## Model RESNET + CNN\n",
    "Here you make the model using different functionalities that Keras provides. You might want to use `TimeDistributed`, `GRU` and other RNN structures after doing transfer learning. Also remember that the last layer is the softmax. Remember that the network is designed in such a way that the model is able to fit in the memory of the webcam."
   ]
  },
  {
   "cell_type": "code",
   "execution_count": 24,
   "metadata": {
    "vscode": {
     "languageId": "python"
    }
   },
   "outputs": [],
   "source": [
    "from keras.models import Sequential, Model\n",
    "from keras.layers import Dense, GRU, Dropout, Flatten, TimeDistributed\n",
    "from keras.callbacks import ModelCheckpoint, ReduceLROnPlateau\n",
    "from keras import optimizers\n",
    "from keras.applications.vgg16 import VGG16\n",
    "\n",
    "base_model = VGG16(include_top=False, weights='imagenet', input_shape=(120,120,3))\n",
    "x = base_model.output\n",
    "x = Flatten()(x)\n",
    "#x.add(Dropout(0.5))\n",
    "features = Dense(64, activation='relu')(x)\n",
    "conv_model = Model(inputs=base_model.input, outputs=features)\n",
    "\n",
    "for layer in base_model.layers:\n",
    "    layer.trainable = False\n",
    "\n",
    "model = Sequential()\n",
    "model.add(TimeDistributed(conv_model, input_shape=(18,120,120,3)))\n",
    "model.add(GRU(32, return_sequences=True))\n",
    "model.add(GRU(16))\n",
    "model.add(Dropout(0.5))\n",
    "model.add(Dense(8, activation='relu'))\n",
    "model.add(Dense(5, activation='softmax'))"
   ]
  },
  {
   "cell_type": "code",
   "execution_count": 25,
   "metadata": {
    "vscode": {
     "languageId": "python"
    }
   },
   "outputs": [
    {
     "name": "stdout",
     "output_type": "stream",
     "text": [
      "Model: \"sequential_2\"\n",
      "_________________________________________________________________\n",
      " Layer (type)                Output Shape              Param #   \n",
      "=================================================================\n",
      " time_distributed_2 (TimeDis  (None, 18, 64)           15009664  \n",
      " tributed)                                                       \n",
      "                                                                 \n",
      " gru_7 (GRU)                 (None, 18, 32)            9408      \n",
      "                                                                 \n",
      " gru_8 (GRU)                 (None, 16)                2400      \n",
      "                                                                 \n",
      " dropout_4 (Dropout)         (None, 16)                0         \n",
      "                                                                 \n",
      " dense_7 (Dense)             (None, 8)                 136       \n",
      "                                                                 \n",
      " dense_8 (Dense)             (None, 5)                 45        \n",
      "                                                                 \n",
      "=================================================================\n",
      "Total params: 15,021,653\n",
      "Trainable params: 306,965\n",
      "Non-trainable params: 14,714,688\n",
      "_________________________________________________________________\n",
      "None\n"
     ]
    }
   ],
   "source": [
    "sgd = tf.keras.optimizers.SGD(learning_rate=0.01, decay=1e-6, momentum=0.7, nesterov=True)\n",
    "model.compile(optimizer=sgd, loss='categorical_crossentropy', metrics=['categorical_accuracy'])\n",
    "print (model.summary())"
   ]
  },
  {
   "cell_type": "markdown",
   "metadata": {},
   "source": [
    "## Model\n",
    "Here you make the model using different functionalities that Keras provides. Remember to use `Conv3D` and `MaxPooling3D` and not `Conv2D` and `Maxpooling2D` for a 3D convolution model. You would want to use `TimeDistributed` while building a Conv2D + RNN model. Also remember that the last layer is the softmax. Design the network in such a way that the model is able to give good accuracy on the least number of parameters so that it can fit in the memory of the webcam."
   ]
  },
  {
   "cell_type": "markdown",
   "metadata": {},
   "source": [
    "### Running Abalations and trying to overfit the model. "
   ]
  },
  {
   "cell_type": "code",
   "execution_count": 20,
   "metadata": {
    "vscode": {
     "languageId": "python"
    }
   },
   "outputs": [],
   "source": [
    "!mkdir -p model_output/LSTM"
   ]
  },
  {
   "cell_type": "code",
   "execution_count": 26,
   "metadata": {
    "vscode": {
     "languageId": "python"
    }
   },
   "outputs": [],
   "source": [
    "\n",
    "model_name = 'model_output/LSTM/'+'model_conv_lstm' + '_' + str(curr_dt_time).replace(' ','').replace(':','_') + '/'\n",
    "    \n",
    "if not os.path.exists(model_name):\n",
    "    os.mkdir(model_name)\n",
    "        \n",
    "filepath = model_name + 'model-{epoch:05d}-{loss:.5f}-{categorical_accuracy:.5f}-{val_loss:.5f}-{val_categorical_accuracy:.5f}.h5'\n",
    "\n",
    "checkpoint = ModelCheckpoint(filepath, monitor='val_loss', verbose=1, save_best_only=False, save_weights_only=False, mode='auto', save_freq='epoch')\n",
    "\n",
    "LR = ReduceLROnPlateau(monitor='val_loss', factor=0.25, patience=2, verbose=1, mode='min', min_delta=0.0001, cooldown=0, min_lr=0.00001)\n",
    "callbacks_list = [checkpoint, LR]"
   ]
  },
  {
   "cell_type": "code",
   "execution_count": 27,
   "metadata": {
    "vscode": {
     "languageId": "python"
    }
   },
   "outputs": [],
   "source": [
    "if (num_train_sequences%batch_size) == 0:\n",
    "    steps_per_epoch = int(num_train_sequences/batch_size)\n",
    "else:\n",
    "    steps_per_epoch = (num_train_sequences//batch_size) + 1\n",
    "\n",
    "if (num_val_sequences%batch_size) == 0:\n",
    "    validation_steps = int(num_val_sequences/batch_size)\n",
    "else:\n",
    "    validation_steps = (num_val_sequences//batch_size) + 1"
   ]
  },
  {
   "cell_type": "code",
   "execution_count": 28,
   "metadata": {
    "vscode": {
     "languageId": "python"
    }
   },
   "outputs": [
    {
     "name": "stdout",
     "output_type": "stream",
     "text": [
      "Source path =  /home/datasets/Project_data/train ; batch size = 64\n",
      "Epoch 1/5\n",
      "11/11 [==============================] - ETA: 0s - loss: 1.6654 - categorical_accuracy: 0.2636Source path =  /home/datasets/Project_data/val ; batch size = 64\n",
      "\n",
      "Epoch 00001: saving model to model_output/LSTM/model_conv_lstm_2023-10-0607_44_34.465621/model-00001-1.66537-0.26364-1.60453-0.15000.h5\n",
      "11/11 [==============================] - 23s 2s/step - loss: 1.6654 - categorical_accuracy: 0.2636 - val_loss: 1.6045 - val_categorical_accuracy: 0.1500 - lr: 0.0100\n",
      "Epoch 2/5\n",
      "11/11 [==============================] - ETA: 0s - loss: 1.6594 - categorical_accuracy: 0.2545\n",
      "Epoch 00002: saving model to model_output/LSTM/model_conv_lstm_2023-10-0607_44_34.465621/model-00002-1.65940-0.25455-1.51589-0.40000.h5\n",
      "11/11 [==============================] - 18s 2s/step - loss: 1.6594 - categorical_accuracy: 0.2545 - val_loss: 1.5159 - val_categorical_accuracy: 0.4000 - lr: 0.0100\n",
      "Epoch 3/5\n",
      "11/11 [==============================] - ETA: 0s - loss: 1.5759 - categorical_accuracy: 0.2545\n",
      "Epoch 00003: saving model to model_output/LSTM/model_conv_lstm_2023-10-0607_44_34.465621/model-00003-1.57595-0.25455-1.54436-0.25000.h5\n",
      "11/11 [==============================] - 20s 2s/step - loss: 1.5759 - categorical_accuracy: 0.2545 - val_loss: 1.5444 - val_categorical_accuracy: 0.2500 - lr: 0.0100\n",
      "Epoch 4/5\n",
      "11/11 [==============================] - ETA: 0s - loss: 1.6666 - categorical_accuracy: 0.1727\n",
      "Epoch 00004: saving model to model_output/LSTM/model_conv_lstm_2023-10-0607_44_34.465621/model-00004-1.66660-0.17273-1.55283-0.50000.h5\n",
      "\n",
      "Epoch 00004: ReduceLROnPlateau reducing learning rate to 0.0024999999441206455.\n",
      "11/11 [==============================] - 18s 2s/step - loss: 1.6666 - categorical_accuracy: 0.1727 - val_loss: 1.5528 - val_categorical_accuracy: 0.5000 - lr: 0.0100\n",
      "Epoch 5/5\n",
      "11/11 [==============================] - ETA: 0s - loss: 1.5908 - categorical_accuracy: 0.2818\n",
      "Epoch 00005: saving model to model_output/LSTM/model_conv_lstm_2023-10-0607_44_34.465621/model-00005-1.59078-0.28182-1.56258-0.40000.h5\n",
      "11/11 [==============================] - 17s 2s/step - loss: 1.5908 - categorical_accuracy: 0.2818 - val_loss: 1.5626 - val_categorical_accuracy: 0.4000 - lr: 0.0025\n"
     ]
    },
    {
     "data": {
      "text/plain": [
       "<keras.callbacks.History at 0x7f83b10ae400>"
      ]
     },
     "execution_count": 28,
     "metadata": {},
     "output_type": "execute_result"
    }
   ],
   "source": [
    "train_generator = generator(train_path, train_doc, batch_size, ablation=True)\n",
    "val_generator = generator(val_path, val_doc, batch_size, ablation=True)\n",
    "\n",
    "# Run ablation for 5 EPOCHS\n",
    "model.fit(train_generator, steps_per_epoch=steps_per_epoch, epochs=5, verbose=1, \n",
    "                    callbacks=callbacks_list, validation_data=val_generator, \n",
    "                    validation_steps=validation_steps, class_weight=None, workers=1, initial_epoch=0)"
   ]
  },
  {
   "cell_type": "code",
   "execution_count": 31,
   "metadata": {
    "vscode": {
     "languageId": "python"
    }
   },
   "outputs": [],
   "source": [
    "# We can see poor performance in the ablation. \n",
    "# Lets try modifing the model\n",
    "\n",
    "\n",
    "base_model = VGG16(include_top=False, weights='imagenet', input_shape=(120,120,3))\n",
    "x = base_model.output\n",
    "x = Flatten()(x)\n",
    "#x.add(Dropout(0.5))\n",
    "features = Dense(64, activation='relu')(x)\n",
    "conv_model = Model(inputs=base_model.input, outputs=features)\n",
    "\n",
    "for layer in base_model.layers:\n",
    "    layer.trainable = False\n",
    "\n",
    "model1 = Sequential()\n",
    "model1.add(TimeDistributed(conv_model, input_shape=(18,120,120,3)))\n",
    "model1.add(GRU(64, return_sequences=True))\n",
    "model1.add(GRU(32, return_sequences=True))\n",
    "model1.add(Dropout(0.5))\n",
    "model1.add(GRU(16))\n",
    "model1.add(Dropout(0.5))\n",
    "model1.add(Dense(8, activation='relu'))\n",
    "model1.add(Dense(5, activation='softmax'))\n"
   ]
  },
  {
   "cell_type": "code",
   "execution_count": 32,
   "metadata": {
    "vscode": {
     "languageId": "python"
    }
   },
   "outputs": [
    {
     "name": "stdout",
     "output_type": "stream",
     "text": [
      "Model: \"sequential_2\"\n",
      "_________________________________________________________________\n",
      " Layer (type)                Output Shape              Param #   \n",
      "=================================================================\n",
      " time_distributed_2 (TimeDis  (None, 18, 64)           15009664  \n",
      " tributed)                                                       \n",
      "                                                                 \n",
      " gru_7 (GRU)                 (None, 18, 32)            9408      \n",
      "                                                                 \n",
      " gru_8 (GRU)                 (None, 16)                2400      \n",
      "                                                                 \n",
      " dropout_4 (Dropout)         (None, 16)                0         \n",
      "                                                                 \n",
      " dense_7 (Dense)             (None, 8)                 136       \n",
      "                                                                 \n",
      " dense_8 (Dense)             (None, 5)                 45        \n",
      "                                                                 \n",
      "=================================================================\n",
      "Total params: 15,021,653\n",
      "Trainable params: 306,965\n",
      "Non-trainable params: 14,714,688\n",
      "_________________________________________________________________\n",
      "None\n"
     ]
    }
   ],
   "source": [
    "sgd = tf.keras.optimizers.SGD(learning_rate=0.01, decay=1e-6, momentum=0.7, nesterov=True)\n",
    "model1.compile(optimizer=sgd, loss='categorical_crossentropy', metrics=['categorical_accuracy'])\n",
    "print (model.summary())"
   ]
  },
  {
   "cell_type": "code",
   "execution_count": 34,
   "metadata": {
    "vscode": {
     "languageId": "python"
    }
   },
   "outputs": [
    {
     "name": "stdout",
     "output_type": "stream",
     "text": [
      "Source path =  /home/datasets/Project_data/train ; batch size = 64\n",
      "Epoch 1/10\n",
      "11/11 [==============================] - ETA: 0s - loss: 1.5525 - categorical_accuracy: 0.2818Source path =  /home/datasets/Project_data/val ; batch size = 64\n",
      "\n",
      "Epoch 00001: saving model to model_output/LSTM/model_conv_lstm_2023-10-0607_44_34.465621/model-00001-1.55255-0.28182-1.65522-0.05000.h5\n",
      "11/11 [==============================] - 16s 2s/step - loss: 1.5525 - categorical_accuracy: 0.2818 - val_loss: 1.6552 - val_categorical_accuracy: 0.0500 - lr: 0.0100\n",
      "Epoch 2/10\n",
      "11/11 [==============================] - ETA: 0s - loss: 1.6138 - categorical_accuracy: 0.2636\n",
      "Epoch 00002: saving model to model_output/LSTM/model_conv_lstm_2023-10-0607_44_34.465621/model-00002-1.61384-0.26364-1.57794-0.30000.h5\n",
      "11/11 [==============================] - 15s 1s/step - loss: 1.6138 - categorical_accuracy: 0.2636 - val_loss: 1.5779 - val_categorical_accuracy: 0.3000 - lr: 0.0100\n",
      "Epoch 3/10\n",
      "11/11 [==============================] - ETA: 0s - loss: 1.6165 - categorical_accuracy: 0.2091\n",
      "Epoch 00003: saving model to model_output/LSTM/model_conv_lstm_2023-10-0607_44_34.465621/model-00003-1.61647-0.20909-1.55634-0.30000.h5\n",
      "11/11 [==============================] - 15s 2s/step - loss: 1.6165 - categorical_accuracy: 0.2091 - val_loss: 1.5563 - val_categorical_accuracy: 0.3000 - lr: 0.0100\n",
      "Epoch 4/10\n",
      "11/11 [==============================] - ETA: 0s - loss: 1.6312 - categorical_accuracy: 0.2182\n",
      "Epoch 00004: saving model to model_output/LSTM/model_conv_lstm_2023-10-0607_44_34.465621/model-00004-1.63125-0.21818-1.59154-0.10000.h5\n",
      "11/11 [==============================] - 16s 2s/step - loss: 1.6312 - categorical_accuracy: 0.2182 - val_loss: 1.5915 - val_categorical_accuracy: 0.1000 - lr: 0.0100\n",
      "Epoch 5/10\n",
      "11/11 [==============================] - ETA: 0s - loss: 1.6157 - categorical_accuracy: 0.2091\n",
      "Epoch 00005: saving model to model_output/LSTM/model_conv_lstm_2023-10-0607_44_34.465621/model-00005-1.61569-0.20909-1.60724-0.25000.h5\n",
      "\n",
      "Epoch 00005: ReduceLROnPlateau reducing learning rate to 0.0024999999441206455.\n",
      "11/11 [==============================] - 16s 2s/step - loss: 1.6157 - categorical_accuracy: 0.2091 - val_loss: 1.6072 - val_categorical_accuracy: 0.2500 - lr: 0.0100\n",
      "Epoch 6/10\n",
      "11/11 [==============================] - ETA: 0s - loss: 1.5925 - categorical_accuracy: 0.2273\n",
      "Epoch 00006: saving model to model_output/LSTM/model_conv_lstm_2023-10-0607_44_34.465621/model-00006-1.59251-0.22727-1.48617-0.55000.h5\n",
      "11/11 [==============================] - 17s 2s/step - loss: 1.5925 - categorical_accuracy: 0.2273 - val_loss: 1.4862 - val_categorical_accuracy: 0.5500 - lr: 0.0025\n",
      "Epoch 7/10\n",
      "11/11 [==============================] - ETA: 0s - loss: 1.5354 - categorical_accuracy: 0.2364\n",
      "Epoch 00007: saving model to model_output/LSTM/model_conv_lstm_2023-10-0607_44_34.465621/model-00007-1.53541-0.23636-1.50414-0.30000.h5\n",
      "11/11 [==============================] - 14s 1s/step - loss: 1.5354 - categorical_accuracy: 0.2364 - val_loss: 1.5041 - val_categorical_accuracy: 0.3000 - lr: 0.0025\n",
      "Epoch 8/10\n",
      "11/11 [==============================] - ETA: 0s - loss: 1.5426 - categorical_accuracy: 0.2909\n",
      "Epoch 00008: saving model to model_output/LSTM/model_conv_lstm_2023-10-0607_44_34.465621/model-00008-1.54262-0.29091-1.50520-0.50000.h5\n",
      "\n",
      "Epoch 00008: ReduceLROnPlateau reducing learning rate to 0.0006249999860301614.\n",
      "11/11 [==============================] - 16s 2s/step - loss: 1.5426 - categorical_accuracy: 0.2909 - val_loss: 1.5052 - val_categorical_accuracy: 0.5000 - lr: 0.0025\n",
      "Epoch 9/10\n",
      "11/11 [==============================] - ETA: 0s - loss: 1.5289 - categorical_accuracy: 0.3091\n",
      "Epoch 00009: saving model to model_output/LSTM/model_conv_lstm_2023-10-0607_44_34.465621/model-00009-1.52887-0.30909-1.61685-0.15000.h5\n",
      "11/11 [==============================] - 16s 2s/step - loss: 1.5289 - categorical_accuracy: 0.3091 - val_loss: 1.6168 - val_categorical_accuracy: 0.1500 - lr: 6.2500e-04\n",
      "Epoch 10/10\n",
      "11/11 [==============================] - ETA: 0s - loss: 1.5339 - categorical_accuracy: 0.2000\n",
      "Epoch 00010: saving model to model_output/LSTM/model_conv_lstm_2023-10-0607_44_34.465621/model-00010-1.53391-0.20000-1.40234-0.60000.h5\n",
      "11/11 [==============================] - 16s 2s/step - loss: 1.5339 - categorical_accuracy: 0.2000 - val_loss: 1.4023 - val_categorical_accuracy: 0.6000 - lr: 6.2500e-04\n"
     ]
    },
    {
     "data": {
      "text/plain": [
       "<keras.callbacks.History at 0x7f83b0a47610>"
      ]
     },
     "execution_count": 34,
     "metadata": {},
     "output_type": "execute_result"
    }
   ],
   "source": [
    "train_generator = generator(train_path, train_doc, batch_size, ablation=True)\n",
    "val_generator = generator(val_path, val_doc, batch_size, ablation=True)\n",
    "\n",
    "# Run ablation for 10 EPOCHS\n",
    "model1.fit(train_generator, steps_per_epoch=steps_per_epoch, epochs=10, verbose=1, \n",
    "                    callbacks=callbacks_list, validation_data=val_generator, \n",
    "                    validation_steps=validation_steps, class_weight=None, workers=1, initial_epoch=0)"
   ]
  },
  {
   "cell_type": "markdown",
   "metadata": {},
   "source": [
    "#### Still not overfitting on small data with 10 folders ad 10 epochs lets try resnet"
   ]
  },
  {
   "cell_type": "code",
   "execution_count": 44,
   "metadata": {
    "vscode": {
     "languageId": "python"
    }
   },
   "outputs": [],
   "source": [
    "from tensorflow.keras.applications.resnet50 import ResNet50\n",
    "    \n",
    "base_model = ResNet50(include_top=False, weights='imagenet', input_shape=(120,120,3))\n",
    "x = base_model.output\n",
    "x = Flatten()(x)\n",
    "#x.add(Dropout(0.5))\n",
    "features = Dense(64, activation='relu')(x)\n",
    "conv_model = Model(inputs=base_model.input, outputs=features)\n",
    "    \n",
    "for layer in base_model.layers:\n",
    "    layer.trainable = False\n",
    "        \n",
    "model2 = Sequential()\n",
    "model2.add(TimeDistributed(conv_model, input_shape=(18,120,120,3)))\n",
    "model2.add(GRU(256, return_sequences=True))\n",
    "model2.add(GRU(128, return_sequences=True))\n",
    "model2.add(Dropout(0.5))\n",
    "model2.add(GRU(64, return_sequences=True))\n",
    "model2.add(GRU(32, return_sequences=True))\n",
    "model2.add(Dropout(0.5))\n",
    "model2.add(GRU(16))\n",
    "model2.add(Dense(8, activation='relu'))\n",
    "model2.add(Dropout(0.5))\n",
    "model2.add(Dense(5, activation='softmax'))"
   ]
  },
  {
   "cell_type": "code",
   "execution_count": 46,
   "metadata": {
    "vscode": {
     "languageId": "python"
    }
   },
   "outputs": [
    {
     "name": "stdout",
     "output_type": "stream",
     "text": [
      "Model: \"sequential_7\"\n",
      "_________________________________________________________________\n",
      " Layer (type)                Output Shape              Param #   \n",
      "=================================================================\n",
      " time_distributed_7 (TimeDis  (None, 18, 64)           25684928  \n",
      " tributed)                                                       \n",
      "                                                                 \n",
      " gru_25 (GRU)                (None, 18, 256)           247296    \n",
      "                                                                 \n",
      " gru_26 (GRU)                (None, 18, 128)           148224    \n",
      "                                                                 \n",
      " dropout_14 (Dropout)        (None, 18, 128)           0         \n",
      "                                                                 \n",
      " gru_27 (GRU)                (None, 18, 64)            37248     \n",
      "                                                                 \n",
      " gru_28 (GRU)                (None, 18, 32)            9408      \n",
      "                                                                 \n",
      " dropout_15 (Dropout)        (None, 18, 32)            0         \n",
      "                                                                 \n",
      " gru_29 (GRU)                (None, 16)                2400      \n",
      "                                                                 \n",
      " dense_20 (Dense)            (None, 8)                 136       \n",
      "                                                                 \n",
      " dropout_16 (Dropout)        (None, 8)                 0         \n",
      "                                                                 \n",
      " dense_21 (Dense)            (None, 5)                 45        \n",
      "                                                                 \n",
      "=================================================================\n",
      "Total params: 26,129,685\n",
      "Trainable params: 2,541,973\n",
      "Non-trainable params: 23,587,712\n",
      "_________________________________________________________________\n",
      "None\n"
     ]
    }
   ],
   "source": [
    "sgd = tf.keras.optimizers.SGD(learning_rate=0.001, decay=1e-6, momentum=0.7, nesterov=True)\n",
    "model2.compile(optimizer=sgd, loss='categorical_crossentropy', metrics=['categorical_accuracy'])\n",
    "print (model2.summary())"
   ]
  },
  {
   "cell_type": "code",
   "execution_count": 47,
   "metadata": {
    "vscode": {
     "languageId": "python"
    }
   },
   "outputs": [
    {
     "name": "stdout",
     "output_type": "stream",
     "text": [
      "Source path =  /home/datasets/Project_data/train ; batch size = 64\n",
      "Epoch 1/10\n",
      "11/11 [==============================] - ETA: 0s - loss: 1.5601 - categorical_accuracy: 0.3455Source path =  /home/datasets/Project_data/val ; batch size = 64\n",
      "\n",
      "Epoch 00001: saving model to model_output/LSTM/model_conv_lstm_2023-10-0607_44_34.465621/model-00001-1.56009-0.34545-1.53069-0.30000.h5\n",
      "11/11 [==============================] - 27s 2s/step - loss: 1.5601 - categorical_accuracy: 0.3455 - val_loss: 1.5307 - val_categorical_accuracy: 0.3000 - lr: 0.0010\n",
      "Epoch 2/10\n",
      "11/11 [==============================] - ETA: 0s - loss: 1.5559 - categorical_accuracy: 0.2909\n",
      "Epoch 00002: saving model to model_output/LSTM/model_conv_lstm_2023-10-0607_44_34.465621/model-00002-1.55589-0.29091-1.54636-0.45000.h5\n",
      "11/11 [==============================] - 16s 2s/step - loss: 1.5559 - categorical_accuracy: 0.2909 - val_loss: 1.5464 - val_categorical_accuracy: 0.4500 - lr: 0.0010\n",
      "Epoch 3/10\n",
      "11/11 [==============================] - ETA: 0s - loss: 1.5635 - categorical_accuracy: 0.3273\n",
      "Epoch 00003: saving model to model_output/LSTM/model_conv_lstm_2023-10-0607_44_34.465621/model-00003-1.56354-0.32727-1.57579-0.25000.h5\n",
      "\n",
      "Epoch 00003: ReduceLROnPlateau reducing learning rate to 0.0002500000118743628.\n",
      "11/11 [==============================] - 15s 2s/step - loss: 1.5635 - categorical_accuracy: 0.3273 - val_loss: 1.5758 - val_categorical_accuracy: 0.2500 - lr: 0.0010\n",
      "Epoch 4/10\n",
      "11/11 [==============================] - ETA: 0s - loss: 1.6011 - categorical_accuracy: 0.2455\n",
      "Epoch 00004: saving model to model_output/LSTM/model_conv_lstm_2023-10-0607_44_34.465621/model-00004-1.60108-0.24545-1.57184-0.35000.h5\n",
      "11/11 [==============================] - 15s 2s/step - loss: 1.6011 - categorical_accuracy: 0.2455 - val_loss: 1.5718 - val_categorical_accuracy: 0.3500 - lr: 2.5000e-04\n",
      "Epoch 5/10\n",
      "11/11 [==============================] - ETA: 0s - loss: 1.4830 - categorical_accuracy: 0.2909\n",
      "Epoch 00005: saving model to model_output/LSTM/model_conv_lstm_2023-10-0607_44_34.465621/model-00005-1.48303-0.29091-1.48287-0.40000.h5\n",
      "11/11 [==============================] - 15s 1s/step - loss: 1.4830 - categorical_accuracy: 0.2909 - val_loss: 1.4829 - val_categorical_accuracy: 0.4000 - lr: 2.5000e-04\n",
      "Epoch 6/10\n",
      "11/11 [==============================] - ETA: 0s - loss: 1.5583 - categorical_accuracy: 0.3182\n",
      "Epoch 00006: saving model to model_output/LSTM/model_conv_lstm_2023-10-0607_44_34.465621/model-00006-1.55835-0.31818-1.38875-0.40000.h5\n",
      "11/11 [==============================] - 18s 2s/step - loss: 1.5583 - categorical_accuracy: 0.3182 - val_loss: 1.3887 - val_categorical_accuracy: 0.4000 - lr: 2.5000e-04\n",
      "Epoch 7/10\n",
      "11/11 [==============================] - ETA: 0s - loss: 1.4545 - categorical_accuracy: 0.3182\n",
      "Epoch 00007: saving model to model_output/LSTM/model_conv_lstm_2023-10-0607_44_34.465621/model-00007-1.45446-0.31818-1.27595-0.65000.h5\n",
      "11/11 [==============================] - 18s 2s/step - loss: 1.4545 - categorical_accuracy: 0.3182 - val_loss: 1.2759 - val_categorical_accuracy: 0.6500 - lr: 2.5000e-04\n",
      "Epoch 8/10\n",
      "11/11 [==============================] - ETA: 0s - loss: 1.4716 - categorical_accuracy: 0.3545\n",
      "Epoch 00008: saving model to model_output/LSTM/model_conv_lstm_2023-10-0607_44_34.465621/model-00008-1.47161-0.35455-1.44746-0.50000.h5\n",
      "11/11 [==============================] - 20s 2s/step - loss: 1.4716 - categorical_accuracy: 0.3545 - val_loss: 1.4475 - val_categorical_accuracy: 0.5000 - lr: 2.5000e-04\n",
      "Epoch 9/10\n",
      "11/11 [==============================] - ETA: 0s - loss: 1.5089 - categorical_accuracy: 0.3000\n",
      "Epoch 00009: saving model to model_output/LSTM/model_conv_lstm_2023-10-0607_44_34.465621/model-00009-1.50890-0.30000-1.41514-0.45000.h5\n",
      "\n",
      "Epoch 00009: ReduceLROnPlateau reducing learning rate to 6.25000029685907e-05.\n",
      "11/11 [==============================] - 18s 2s/step - loss: 1.5089 - categorical_accuracy: 0.3000 - val_loss: 1.4151 - val_categorical_accuracy: 0.4500 - lr: 2.5000e-04\n",
      "Epoch 10/10\n",
      "11/11 [==============================] - ETA: 0s - loss: 1.4632 - categorical_accuracy: 0.3727\n",
      "Epoch 00010: saving model to model_output/LSTM/model_conv_lstm_2023-10-0607_44_34.465621/model-00010-1.46325-0.37273-1.50121-0.35000.h5\n",
      "11/11 [==============================] - 21s 2s/step - loss: 1.4632 - categorical_accuracy: 0.3727 - val_loss: 1.5012 - val_categorical_accuracy: 0.3500 - lr: 6.2500e-05\n"
     ]
    },
    {
     "data": {
      "text/plain": [
       "<keras.callbacks.History at 0x7f832d4ec160>"
      ]
     },
     "execution_count": 47,
     "metadata": {},
     "output_type": "execute_result"
    }
   ],
   "source": [
    "train_generator = generator(train_path, train_doc, batch_size, ablation=True)\n",
    "val_generator = generator(val_path, val_doc, batch_size, ablation=True)\n",
    "\n",
    "# Run ablation for 10 EPOCHS\n",
    "model2.fit(train_generator, steps_per_epoch=steps_per_epoch, epochs=10, verbose=1, \n",
    "                    callbacks=callbacks_list, validation_data=val_generator, \n",
    "                    validation_steps=validation_steps, class_weight=None, workers=1, initial_epoch=0)"
   ]
  },
  {
   "cell_type": "code",
   "execution_count": 40,
   "metadata": {
    "vscode": {
     "languageId": "python"
    }
   },
   "outputs": [
    {
     "name": "stdout",
     "output_type": "stream",
     "text": [
      "Model: \"sequential_6\"\n",
      "_________________________________________________________________\n",
      " Layer (type)                Output Shape              Param #   \n",
      "=================================================================\n",
      " time_distributed_6 (TimeDis  (None, 18, 64)           25684928  \n",
      " tributed)                                                       \n",
      "                                                                 \n",
      " gru_20 (GRU)                (None, 18, 256)           247296    \n",
      "                                                                 \n",
      " gru_21 (GRU)                (None, 18, 128)           148224    \n",
      "                                                                 \n",
      " dropout_11 (Dropout)        (None, 18, 128)           0         \n",
      "                                                                 \n",
      " gru_22 (GRU)                (None, 18, 64)            37248     \n",
      "                                                                 \n",
      " gru_23 (GRU)                (None, 18, 32)            9408      \n",
      "                                                                 \n",
      " dropout_12 (Dropout)        (None, 18, 32)            0         \n",
      "                                                                 \n",
      " gru_24 (GRU)                (None, 16)                2400      \n",
      "                                                                 \n",
      " dropout_13 (Dropout)        (None, 16)                0         \n",
      "                                                                 \n",
      " dense_17 (Dense)            (None, 8)                 136       \n",
      "                                                                 \n",
      " dense_18 (Dense)            (None, 5)                 45        \n",
      "                                                                 \n",
      "=================================================================\n",
      "Total params: 26,129,685\n",
      "Trainable params: 2,541,973\n",
      "Non-trainable params: 23,587,712\n",
      "_________________________________________________________________\n",
      "None\n"
     ]
    }
   ],
   "source": [
    "# Lets try chnaging the Learning rate\n",
    "\n",
    "sgd = tf.keras.optimizers.SGD(learning_rate=0.1, decay=1e-2, momentum=0.7, nesterov=True)\n",
    "model2.compile(optimizer=sgd, loss='categorical_crossentropy', metrics=['categorical_accuracy'])\n",
    "print (model2.summary())"
   ]
  },
  {
   "cell_type": "markdown",
   "metadata": {},
   "source": [
    "#### As we can see the accuracy is growing slowing, so if we run this for higher epochs it will over fit"
   ]
  },
  {
   "cell_type": "markdown",
   "metadata": {},
   "source": [
    "#### Lets Reduce the params of the Model and run ablations again"
   ]
  },
  {
   "cell_type": "code",
   "execution_count": 11,
   "metadata": {
    "vscode": {
     "languageId": "python"
    }
   },
   "outputs": [],
   "source": [
    "base_model = ResNet50(include_top=False, weights='imagenet', input_shape=(120,120,3))\n",
    "x = base_model.output\n",
    "x = Flatten()(x)\n",
    "#x.add(Dropout(0.5))\n",
    "features = Dense(64, activation='relu')(x)\n",
    "conv_model = Model(inputs=base_model.input, outputs=features)\n",
    "    \n",
    "for layer in base_model.layers:\n",
    "    layer.trainable = False\n",
    "        \n",
    "model_res_cnn = Sequential()\n",
    "model_res_cnn.add(TimeDistributed(conv_model, input_shape=(15,120,120,3)))\n",
    "model_res_cnn.add(GRU(64, return_sequences=True))\n",
    "model_res_cnn.add(Dropout(0.5))\n",
    "model_res_cnn.add(GRU(32, return_sequences=True))\n",
    "model_res_cnn.add(GRU(16))\n",
    "model_res_cnn.add(Dropout(0.5))\n",
    "model_res_cnn.add(Dense(8, activation='relu'))\n",
    "model_res_cnn.add(Dense(5, activation='softmax'))"
   ]
  },
  {
   "cell_type": "code",
   "execution_count": 12,
   "metadata": {
    "vscode": {
     "languageId": "python"
    }
   },
   "outputs": [
    {
     "name": "stdout",
     "output_type": "stream",
     "text": [
      "Model: \"sequential_1\"\n",
      "_________________________________________________________________\n",
      " Layer (type)                Output Shape              Param #   \n",
      "=================================================================\n",
      " time_distributed_1 (TimeDis  (None, 15, 64)           25684928  \n",
      " tributed)                                                       \n",
      "                                                                 \n",
      " gru_5 (GRU)                 (None, 15, 64)            24960     \n",
      "                                                                 \n",
      " dropout_3 (Dropout)         (None, 15, 64)            0         \n",
      "                                                                 \n",
      " gru_6 (GRU)                 (None, 15, 32)            9408      \n",
      "                                                                 \n",
      " gru_7 (GRU)                 (None, 16)                2400      \n",
      "                                                                 \n",
      " dropout_4 (Dropout)         (None, 16)                0         \n",
      "                                                                 \n",
      " dense_4 (Dense)             (None, 8)                 136       \n",
      "                                                                 \n",
      " dense_5 (Dense)             (None, 5)                 45        \n",
      "                                                                 \n",
      "=================================================================\n",
      "Total params: 25,721,877\n",
      "Trainable params: 2,134,165\n",
      "Non-trainable params: 23,587,712\n",
      "_________________________________________________________________\n",
      "None\n"
     ]
    }
   ],
   "source": [
    "sgd = tf.keras.optimizers.SGD(learning_rate=0.01, decay=1e-6, momentum=0.7, nesterov=True)\n",
    "model_res_cnn.compile(optimizer=sgd, loss='categorical_crossentropy', metrics=['categorical_accuracy'])\n",
    "print (model_res_cnn.summary())"
   ]
  },
  {
   "cell_type": "code",
   "execution_count": 13,
   "metadata": {
    "vscode": {
     "languageId": "python"
    }
   },
   "outputs": [
    {
     "name": "stderr",
     "output_type": "stream",
     "text": [
      "/tmp/ipykernel_302/3015679548.py:5: UserWarning: `Model.fit_generator` is deprecated and will be removed in a future version. Please use `Model.fit`, which supports generators.\n",
      "  model_res_cnn.fit_generator(train_generator, steps_per_epoch=steps_per_epoch, epochs=5, verbose=1,\n"
     ]
    },
    {
     "name": "stdout",
     "output_type": "stream",
     "text": [
      "Source path =  /home/datasets/Project_data/train ; batch size = 50\n",
      "Epoch 1/5\n",
      "14/14 [==============================] - ETA: 0s - loss: 1.6833 - categorical_accuracy: 0.1571Source path =  /home/datasets/Project_data/val ; batch size = 50\n",
      "\n",
      "Epoch 00001: saving model to model_init_conv_lstm_2023-10-0213_11_18.391040/model-00001-1.68325-0.15714-1.59328-0.25000.h5\n",
      "14/14 [==============================] - 19s 951ms/step - loss: 1.6833 - categorical_accuracy: 0.1571 - val_loss: 1.5933 - val_categorical_accuracy: 0.2500 - lr: 0.0100\n",
      "Epoch 2/5\n",
      "14/14 [==============================] - ETA: 0s - loss: 1.6441 - categorical_accuracy: 0.1500\n",
      "Epoch 00002: saving model to model_init_conv_lstm_2023-10-0213_11_18.391040/model-00002-1.64406-0.15000-1.60181-0.30000.h5\n",
      "14/14 [==============================] - 13s 991ms/step - loss: 1.6441 - categorical_accuracy: 0.1500 - val_loss: 1.6018 - val_categorical_accuracy: 0.3000 - lr: 0.0100\n",
      "Epoch 3/5\n",
      "14/14 [==============================] - ETA: 0s - loss: 1.6262 - categorical_accuracy: 0.2500\n",
      "Epoch 00003: saving model to model_init_conv_lstm_2023-10-0213_11_18.391040/model-00003-1.62618-0.25000-1.58963-0.20000.h5\n",
      "14/14 [==============================] - 13s 970ms/step - loss: 1.6262 - categorical_accuracy: 0.2500 - val_loss: 1.5896 - val_categorical_accuracy: 0.2000 - lr: 0.0100\n",
      "Epoch 4/5\n",
      "14/14 [==============================] - ETA: 0s - loss: 1.6479 - categorical_accuracy: 0.1571\n",
      "Epoch 00004: saving model to model_init_conv_lstm_2023-10-0213_11_18.391040/model-00004-1.64789-0.15714-1.62263-0.20000.h5\n",
      "14/14 [==============================] - 13s 1s/step - loss: 1.6479 - categorical_accuracy: 0.1571 - val_loss: 1.6226 - val_categorical_accuracy: 0.2000 - lr: 0.0100\n",
      "Epoch 5/5\n",
      "14/14 [==============================] - ETA: 0s - loss: 1.6223 - categorical_accuracy: 0.2214\n",
      "Epoch 00005: saving model to model_init_conv_lstm_2023-10-0213_11_18.391040/model-00005-1.62231-0.22143-1.61169-0.20000.h5\n",
      "\n",
      "Epoch 00005: ReduceLROnPlateau reducing learning rate to 0.0024999999441206455.\n",
      "14/14 [==============================] - 13s 956ms/step - loss: 1.6223 - categorical_accuracy: 0.2214 - val_loss: 1.6117 - val_categorical_accuracy: 0.2000 - lr: 0.0100\n"
     ]
    },
    {
     "data": {
      "text/plain": [
       "<keras.callbacks.History at 0x7fceeeebd490>"
      ]
     },
     "execution_count": 13,
     "metadata": {},
     "output_type": "execute_result"
    }
   ],
   "source": [
    "train_generator = generator(train_path, train_doc, batch_size, ablation=True)\n",
    "val_generator = generator(val_path, val_doc, batch_size, ablation=True)\n",
    "\n",
    "# Ru ablation for 5 EPOCHS\n",
    "model_res_cnn.fit_generator(train_generator, steps_per_epoch=steps_per_epoch, epochs=5, verbose=1, \n",
    "                    callbacks=callbacks_list, validation_data=val_generator, \n",
    "                    validation_steps=validation_steps, class_weight=None, workers=1, initial_epoch=0)"
   ]
  },
  {
   "cell_type": "markdown",
   "metadata": {},
   "source": [
    "### Lets Run it with full data and 100 epochs"
   ]
  },
  {
   "cell_type": "code",
   "execution_count": 14,
   "metadata": {
    "vscode": {
     "languageId": "python"
    }
   },
   "outputs": [
    {
     "name": "stderr",
     "output_type": "stream",
     "text": [
      "/tmp/ipykernel_302/1818576770.py:5: UserWarning: `Model.fit_generator` is deprecated and will be removed in a future version. Please use `Model.fit`, which supports generators.\n",
      "  model_res_cnn.fit_generator(train_generator, steps_per_epoch=steps_per_epoch, epochs=num_epochs, verbose=1,\n"
     ]
    },
    {
     "name": "stdout",
     "output_type": "stream",
     "text": [
      "Source path =  /home/datasets/Project_data/train ; batch size = 50\n",
      "Epoch 1/100\n",
      "14/14 [==============================] - ETA: 0s - loss: 1.6133 - categorical_accuracy: 0.2413Source path =  /home/datasets/Project_data/val ; batch size = 50\n",
      "\n",
      "Epoch 00001: saving model to model_init_conv_lstm_2023-10-0213_11_18.391040/model-00001-1.61333-0.24133-1.60666-0.26000.h5\n",
      "14/14 [==============================] - 59s 4s/step - loss: 1.6133 - categorical_accuracy: 0.2413 - val_loss: 1.6067 - val_categorical_accuracy: 0.2600 - lr: 0.0025\n",
      "Epoch 2/100\n",
      "14/14 [==============================] - ETA: 0s - loss: 1.5956 - categorical_accuracy: 0.2443\n",
      "Epoch 00002: saving model to model_init_conv_lstm_2023-10-0213_11_18.391040/model-00002-1.59556-0.24434-1.60605-0.28000.h5\n",
      "14/14 [==============================] - 59s 5s/step - loss: 1.5956 - categorical_accuracy: 0.2443 - val_loss: 1.6060 - val_categorical_accuracy: 0.2800 - lr: 0.0025\n",
      "Epoch 3/100\n",
      "14/14 [==============================] - ETA: 0s - loss: 1.5882 - categorical_accuracy: 0.2308\n",
      "Epoch 00003: saving model to model_init_conv_lstm_2023-10-0213_11_18.391040/model-00003-1.58819-0.23077-1.59634-0.32000.h5\n",
      "14/14 [==============================] - 59s 4s/step - loss: 1.5882 - categorical_accuracy: 0.2308 - val_loss: 1.5963 - val_categorical_accuracy: 0.3200 - lr: 0.0025\n",
      "Epoch 4/100\n",
      "14/14 [==============================] - ETA: 0s - loss: 1.5892 - categorical_accuracy: 0.2564\n",
      "Epoch 00004: saving model to model_init_conv_lstm_2023-10-0213_11_18.391040/model-00004-1.58922-0.25641-1.58077-0.33000.h5\n",
      "14/14 [==============================] - 61s 5s/step - loss: 1.5892 - categorical_accuracy: 0.2564 - val_loss: 1.5808 - val_categorical_accuracy: 0.3300 - lr: 0.0025\n",
      "Epoch 5/100\n",
      "14/14 [==============================] - ETA: 0s - loss: 1.5804 - categorical_accuracy: 0.2474\n",
      "Epoch 00005: saving model to model_init_conv_lstm_2023-10-0213_11_18.391040/model-00005-1.58045-0.24736-1.57501-0.31000.h5\n",
      "14/14 [==============================] - 58s 4s/step - loss: 1.5804 - categorical_accuracy: 0.2474 - val_loss: 1.5750 - val_categorical_accuracy: 0.3100 - lr: 0.0025\n",
      "Epoch 6/100\n",
      "14/14 [==============================] - ETA: 0s - loss: 1.5613 - categorical_accuracy: 0.2549\n",
      "Epoch 00006: saving model to model_init_conv_lstm_2023-10-0213_11_18.391040/model-00006-1.56135-0.25490-1.56887-0.34000.h5\n",
      "14/14 [==============================] - 61s 5s/step - loss: 1.5613 - categorical_accuracy: 0.2549 - val_loss: 1.5689 - val_categorical_accuracy: 0.3400 - lr: 0.0025\n",
      "Epoch 7/100\n",
      "14/14 [==============================] - ETA: 0s - loss: 1.5483 - categorical_accuracy: 0.2986\n",
      "Epoch 00007: saving model to model_init_conv_lstm_2023-10-0213_11_18.391040/model-00007-1.54825-0.29864-1.56093-0.30000.h5\n",
      "14/14 [==============================] - 59s 5s/step - loss: 1.5483 - categorical_accuracy: 0.2986 - val_loss: 1.5609 - val_categorical_accuracy: 0.3000 - lr: 0.0025\n",
      "Epoch 8/100\n",
      "14/14 [==============================] - ETA: 0s - loss: 1.5454 - categorical_accuracy: 0.3062\n",
      "Epoch 00008: saving model to model_init_conv_lstm_2023-10-0213_11_18.391040/model-00008-1.54541-0.30618-1.53729-0.27000.h5\n",
      "14/14 [==============================] - 63s 5s/step - loss: 1.5454 - categorical_accuracy: 0.3062 - val_loss: 1.5373 - val_categorical_accuracy: 0.2700 - lr: 0.0025\n",
      "Epoch 9/100\n",
      "14/14 [==============================] - ETA: 0s - loss: 1.5131 - categorical_accuracy: 0.3107\n",
      "Epoch 00009: saving model to model_init_conv_lstm_2023-10-0213_11_18.391040/model-00009-1.51314-0.31071-1.51877-0.29000.h5\n",
      "14/14 [==============================] - 63s 5s/step - loss: 1.5131 - categorical_accuracy: 0.3107 - val_loss: 1.5188 - val_categorical_accuracy: 0.2900 - lr: 0.0025\n",
      "Epoch 10/100\n",
      "14/14 [==============================] - ETA: 0s - loss: 1.5249 - categorical_accuracy: 0.2956\n",
      "Epoch 00010: saving model to model_init_conv_lstm_2023-10-0213_11_18.391040/model-00010-1.52486-0.29563-1.48234-0.32000.h5\n",
      "14/14 [==============================] - 62s 5s/step - loss: 1.5249 - categorical_accuracy: 0.2956 - val_loss: 1.4823 - val_categorical_accuracy: 0.3200 - lr: 0.0025\n",
      "Epoch 11/100\n",
      "14/14 [==============================] - ETA: 0s - loss: 1.4886 - categorical_accuracy: 0.3228\n",
      "Epoch 00011: saving model to model_init_conv_lstm_2023-10-0213_11_18.391040/model-00011-1.48864-0.32278-1.44095-0.34000.h5\n",
      "14/14 [==============================] - 63s 5s/step - loss: 1.4886 - categorical_accuracy: 0.3228 - val_loss: 1.4409 - val_categorical_accuracy: 0.3400 - lr: 0.0025\n",
      "Epoch 12/100\n",
      "14/14 [==============================] - ETA: 0s - loss: 1.4641 - categorical_accuracy: 0.3424\n",
      "Epoch 00012: saving model to model_init_conv_lstm_2023-10-0213_11_18.391040/model-00012-1.46409-0.34238-1.40343-0.35000.h5\n",
      "14/14 [==============================] - 63s 5s/step - loss: 1.4641 - categorical_accuracy: 0.3424 - val_loss: 1.4034 - val_categorical_accuracy: 0.3500 - lr: 0.0025\n",
      "Epoch 13/100\n",
      "14/14 [==============================] - ETA: 0s - loss: 1.4426 - categorical_accuracy: 0.3575\n",
      "Epoch 00013: saving model to model_init_conv_lstm_2023-10-0213_11_18.391040/model-00013-1.44264-0.35747-1.36974-0.42000.h5\n",
      "14/14 [==============================] - 61s 5s/step - loss: 1.4426 - categorical_accuracy: 0.3575 - val_loss: 1.3697 - val_categorical_accuracy: 0.4200 - lr: 0.0025\n",
      "Epoch 14/100\n",
      "14/14 [==============================] - ETA: 0s - loss: 1.3894 - categorical_accuracy: 0.3680\n",
      "Epoch 00014: saving model to model_init_conv_lstm_2023-10-0213_11_18.391040/model-00014-1.38940-0.36802-1.36992-0.36000.h5\n",
      "14/14 [==============================] - 63s 5s/step - loss: 1.3894 - categorical_accuracy: 0.3680 - val_loss: 1.3699 - val_categorical_accuracy: 0.3600 - lr: 0.0025\n",
      "Epoch 15/100\n",
      "14/14 [==============================] - ETA: 0s - loss: 1.3674 - categorical_accuracy: 0.3620\n",
      "Epoch 00015: saving model to model_init_conv_lstm_2023-10-0213_11_18.391040/model-00015-1.36737-0.36199-1.29766-0.39000.h5\n",
      "14/14 [==============================] - 62s 5s/step - loss: 1.3674 - categorical_accuracy: 0.3620 - val_loss: 1.2977 - val_categorical_accuracy: 0.3900 - lr: 0.0025\n",
      "Epoch 16/100\n",
      "14/14 [==============================] - ETA: 0s - loss: 1.3271 - categorical_accuracy: 0.3937\n",
      "Epoch 00016: saving model to model_init_conv_lstm_2023-10-0213_11_18.391040/model-00016-1.32706-0.39367-1.25120-0.37000.h5\n",
      "14/14 [==============================] - 61s 5s/step - loss: 1.3271 - categorical_accuracy: 0.3937 - val_loss: 1.2512 - val_categorical_accuracy: 0.3700 - lr: 0.0025\n",
      "Epoch 17/100\n",
      "14/14 [==============================] - ETA: 0s - loss: 1.2776 - categorical_accuracy: 0.4374\n",
      "Epoch 00017: saving model to model_init_conv_lstm_2023-10-0213_11_18.391040/model-00017-1.27757-0.43741-1.19364-0.41000.h5\n",
      "14/14 [==============================] - 62s 5s/step - loss: 1.2776 - categorical_accuracy: 0.4374 - val_loss: 1.1936 - val_categorical_accuracy: 0.4100 - lr: 0.0025\n",
      "Epoch 18/100\n",
      "14/14 [==============================] - ETA: 0s - loss: 1.2764 - categorical_accuracy: 0.4223\n",
      "Epoch 00018: saving model to model_init_conv_lstm_2023-10-0213_11_18.391040/model-00018-1.27645-0.42232-1.19101-0.46000.h5\n",
      "14/14 [==============================] - 63s 5s/step - loss: 1.2764 - categorical_accuracy: 0.4223 - val_loss: 1.1910 - val_categorical_accuracy: 0.4600 - lr: 0.0025\n",
      "Epoch 19/100\n",
      "14/14 [==============================] - ETA: 0s - loss: 1.2307 - categorical_accuracy: 0.4419\n",
      "Epoch 00019: saving model to model_init_conv_lstm_2023-10-0213_11_18.391040/model-00019-1.23069-0.44193-1.30666-0.36000.h5\n",
      "14/14 [==============================] - 61s 5s/step - loss: 1.2307 - categorical_accuracy: 0.4419 - val_loss: 1.3067 - val_categorical_accuracy: 0.3600 - lr: 0.0025\n",
      "Epoch 20/100\n",
      "14/14 [==============================] - ETA: 0s - loss: 1.2158 - categorical_accuracy: 0.4449\n",
      "Epoch 00020: saving model to model_init_conv_lstm_2023-10-0213_11_18.391040/model-00020-1.21583-0.44495-1.15860-0.43000.h5\n",
      "14/14 [==============================] - 60s 5s/step - loss: 1.2158 - categorical_accuracy: 0.4449 - val_loss: 1.1586 - val_categorical_accuracy: 0.4300 - lr: 0.0025\n",
      "Epoch 21/100\n",
      "14/14 [==============================] - ETA: 0s - loss: 1.1544 - categorical_accuracy: 0.4706\n",
      "Epoch 00021: saving model to model_init_conv_lstm_2023-10-0213_11_18.391040/model-00021-1.15436-0.47059-1.11676-0.57000.h5\n",
      "14/14 [==============================] - 60s 5s/step - loss: 1.1544 - categorical_accuracy: 0.4706 - val_loss: 1.1168 - val_categorical_accuracy: 0.5700 - lr: 0.0025\n",
      "Epoch 22/100\n",
      "14/14 [==============================] - ETA: 0s - loss: 1.1637 - categorical_accuracy: 0.4585\n",
      "Epoch 00022: saving model to model_init_conv_lstm_2023-10-0213_11_18.391040/model-00022-1.16374-0.45852-1.09637-0.51000.h5\n",
      "14/14 [==============================] - 60s 5s/step - loss: 1.1637 - categorical_accuracy: 0.4585 - val_loss: 1.0964 - val_categorical_accuracy: 0.5100 - lr: 0.0025\n",
      "Epoch 23/100\n",
      "14/14 [==============================] - ETA: 0s - loss: 1.1091 - categorical_accuracy: 0.4962\n",
      "Epoch 00023: saving model to model_init_conv_lstm_2023-10-0213_11_18.391040/model-00023-1.10910-0.49623-1.07772-0.56000.h5\n",
      "14/14 [==============================] - 61s 5s/step - loss: 1.1091 - categorical_accuracy: 0.4962 - val_loss: 1.0777 - val_categorical_accuracy: 0.5600 - lr: 0.0025\n",
      "Epoch 24/100\n",
      "14/14 [==============================] - ETA: 0s - loss: 1.0932 - categorical_accuracy: 0.5038\n",
      "Epoch 00024: saving model to model_init_conv_lstm_2023-10-0213_11_18.391040/model-00024-1.09319-0.50377-1.00269-0.69000.h5\n",
      "14/14 [==============================] - 59s 4s/step - loss: 1.0932 - categorical_accuracy: 0.5038 - val_loss: 1.0027 - val_categorical_accuracy: 0.6900 - lr: 0.0025\n",
      "Epoch 25/100\n",
      "14/14 [==============================] - ETA: 0s - loss: 1.0549 - categorical_accuracy: 0.5445\n",
      "Epoch 00025: saving model to model_init_conv_lstm_2023-10-0213_11_18.391040/model-00025-1.05488-0.54449-1.03149-0.56000.h5\n",
      "14/14 [==============================] - 58s 4s/step - loss: 1.0549 - categorical_accuracy: 0.5445 - val_loss: 1.0315 - val_categorical_accuracy: 0.5600 - lr: 0.0025\n",
      "Epoch 26/100\n",
      "14/14 [==============================] - ETA: 0s - loss: 1.0318 - categorical_accuracy: 0.5505\n",
      "Epoch 00026: saving model to model_init_conv_lstm_2023-10-0213_11_18.391040/model-00026-1.03180-0.55053-1.00797-0.65000.h5\n",
      "\n",
      "Epoch 00026: ReduceLROnPlateau reducing learning rate to 0.0006249999860301614.\n",
      "14/14 [==============================] - 62s 5s/step - loss: 1.0318 - categorical_accuracy: 0.5505 - val_loss: 1.0080 - val_categorical_accuracy: 0.6500 - lr: 0.0025\n",
      "Epoch 27/100\n",
      "14/14 [==============================] - ETA: 0s - loss: 1.0320 - categorical_accuracy: 0.5294\n",
      "Epoch 00027: saving model to model_init_conv_lstm_2023-10-0213_11_18.391040/model-00027-1.03198-0.52941-0.97572-0.57000.h5\n",
      "14/14 [==============================] - 61s 5s/step - loss: 1.0320 - categorical_accuracy: 0.5294 - val_loss: 0.9757 - val_categorical_accuracy: 0.5700 - lr: 6.2500e-04\n",
      "Epoch 28/100\n",
      "14/14 [==============================] - ETA: 0s - loss: 1.0146 - categorical_accuracy: 0.5415\n",
      "Epoch 00028: saving model to model_init_conv_lstm_2023-10-0213_11_18.391040/model-00028-1.01459-0.54148-0.95376-0.61000.h5\n",
      "14/14 [==============================] - 63s 5s/step - loss: 1.0146 - categorical_accuracy: 0.5415 - val_loss: 0.9538 - val_categorical_accuracy: 0.6100 - lr: 6.2500e-04\n",
      "Epoch 29/100\n",
      "14/14 [==============================] - ETA: 0s - loss: 0.9876 - categorical_accuracy: 0.5897\n",
      "Epoch 00029: saving model to model_init_conv_lstm_2023-10-0213_11_18.391040/model-00029-0.98755-0.58974-0.96530-0.63000.h5\n",
      "14/14 [==============================] - 63s 5s/step - loss: 0.9876 - categorical_accuracy: 0.5897 - val_loss: 0.9653 - val_categorical_accuracy: 0.6300 - lr: 6.2500e-04\n",
      "Epoch 30/100\n",
      "14/14 [==============================] - ETA: 0s - loss: 1.0065 - categorical_accuracy: 0.5641\n",
      "Epoch 00030: saving model to model_init_conv_lstm_2023-10-0213_11_18.391040/model-00030-1.00650-0.56410-0.94047-0.55000.h5\n",
      "14/14 [==============================] - 61s 5s/step - loss: 1.0065 - categorical_accuracy: 0.5641 - val_loss: 0.9405 - val_categorical_accuracy: 0.5500 - lr: 6.2500e-04\n",
      "Epoch 31/100\n",
      "14/14 [==============================] - ETA: 0s - loss: 0.9645 - categorical_accuracy: 0.5807\n",
      "Epoch 00031: saving model to model_init_conv_lstm_2023-10-0213_11_18.391040/model-00031-0.96446-0.58069-0.95168-0.60000.h5\n",
      "14/14 [==============================] - 61s 5s/step - loss: 0.9645 - categorical_accuracy: 0.5807 - val_loss: 0.9517 - val_categorical_accuracy: 0.6000 - lr: 6.2500e-04\n",
      "Epoch 32/100\n",
      "14/14 [==============================] - ETA: 0s - loss: 0.9811 - categorical_accuracy: 0.5445\n",
      "Epoch 00032: saving model to model_init_conv_lstm_2023-10-0213_11_18.391040/model-00032-0.98110-0.54449-0.95546-0.60000.h5\n",
      "\n",
      "Epoch 00032: ReduceLROnPlateau reducing learning rate to 0.00015624999650754035.\n",
      "14/14 [==============================] - 61s 5s/step - loss: 0.9811 - categorical_accuracy: 0.5445 - val_loss: 0.9555 - val_categorical_accuracy: 0.6000 - lr: 6.2500e-04\n",
      "Epoch 33/100\n",
      "14/14 [==============================] - ETA: 0s - loss: 0.9814 - categorical_accuracy: 0.5837\n",
      "Epoch 00033: saving model to model_init_conv_lstm_2023-10-0213_11_18.391040/model-00033-0.98139-0.58371-0.94851-0.64000.h5\n",
      "14/14 [==============================] - 61s 5s/step - loss: 0.9814 - categorical_accuracy: 0.5837 - val_loss: 0.9485 - val_categorical_accuracy: 0.6400 - lr: 1.5625e-04\n",
      "Epoch 34/100\n",
      "14/14 [==============================] - ETA: 0s - loss: 0.9673 - categorical_accuracy: 0.5958\n",
      "Epoch 00034: saving model to model_init_conv_lstm_2023-10-0213_11_18.391040/model-00034-0.96730-0.59578-0.99629-0.57000.h5\n",
      "\n",
      "Epoch 00034: ReduceLROnPlateau reducing learning rate to 3.9062499126885086e-05.\n",
      "14/14 [==============================] - 64s 5s/step - loss: 0.9673 - categorical_accuracy: 0.5958 - val_loss: 0.9963 - val_categorical_accuracy: 0.5700 - lr: 1.5625e-04\n",
      "Epoch 35/100\n",
      "14/14 [==============================] - ETA: 0s - loss: 0.9603 - categorical_accuracy: 0.6003\n",
      "Epoch 00035: saving model to model_init_conv_lstm_2023-10-0213_11_18.391040/model-00035-0.96034-0.60030-0.94893-0.61000.h5\n",
      "14/14 [==============================] - 63s 5s/step - loss: 0.9603 - categorical_accuracy: 0.6003 - val_loss: 0.9489 - val_categorical_accuracy: 0.6100 - lr: 3.9062e-05\n",
      "Epoch 36/100\n",
      "14/14 [==============================] - ETA: 0s - loss: 0.9679 - categorical_accuracy: 0.5822\n",
      "Epoch 00036: saving model to model_init_conv_lstm_2023-10-0213_11_18.391040/model-00036-0.96791-0.58220-0.98921-0.58000.h5\n",
      "\n",
      "Epoch 00036: ReduceLROnPlateau reducing learning rate to 1e-05.\n",
      "14/14 [==============================] - 61s 5s/step - loss: 0.9679 - categorical_accuracy: 0.5822 - val_loss: 0.9892 - val_categorical_accuracy: 0.5800 - lr: 3.9062e-05\n",
      "Epoch 37/100\n",
      "14/14 [==============================] - ETA: 0s - loss: 0.9689 - categorical_accuracy: 0.5882\n",
      "Epoch 00037: saving model to model_init_conv_lstm_2023-10-0213_11_18.391040/model-00037-0.96891-0.58824-0.94833-0.62000.h5\n",
      "14/14 [==============================] - 62s 5s/step - loss: 0.9689 - categorical_accuracy: 0.5882 - val_loss: 0.9483 - val_categorical_accuracy: 0.6200 - lr: 1.0000e-05\n",
      "Epoch 38/100\n",
      "14/14 [==============================] - ETA: 0s - loss: 0.9602 - categorical_accuracy: 0.5973\n",
      "Epoch 00038: saving model to model_init_conv_lstm_2023-10-0213_11_18.391040/model-00038-0.96018-0.59729-1.00719-0.57000.h5\n",
      "14/14 [==============================] - 62s 5s/step - loss: 0.9602 - categorical_accuracy: 0.5973 - val_loss: 1.0072 - val_categorical_accuracy: 0.5700 - lr: 1.0000e-05\n",
      "Epoch 39/100\n",
      "14/14 [==============================] - ETA: 0s - loss: 0.9623 - categorical_accuracy: 0.6139\n",
      "Epoch 00039: saving model to model_init_conv_lstm_2023-10-0213_11_18.391040/model-00039-0.96230-0.61388-0.94831-0.61000.h5\n",
      "14/14 [==============================] - 62s 5s/step - loss: 0.9623 - categorical_accuracy: 0.6139 - val_loss: 0.9483 - val_categorical_accuracy: 0.6100 - lr: 1.0000e-05\n",
      "Epoch 40/100\n",
      "14/14 [==============================] - ETA: 0s - loss: 0.9530 - categorical_accuracy: 0.6094\n",
      "Epoch 00040: saving model to model_init_conv_lstm_2023-10-0213_11_18.391040/model-00040-0.95303-0.60935-0.96936-0.61000.h5\n",
      "14/14 [==============================] - 62s 5s/step - loss: 0.9530 - categorical_accuracy: 0.6094 - val_loss: 0.9694 - val_categorical_accuracy: 0.6100 - lr: 1.0000e-05\n",
      "Epoch 41/100\n",
      "14/14 [==============================] - ETA: 0s - loss: 0.9520 - categorical_accuracy: 0.5958\n",
      "Epoch 00041: saving model to model_init_conv_lstm_2023-10-0213_11_18.391040/model-00041-0.95203-0.59578-0.94812-0.61000.h5\n",
      "14/14 [==============================] - 62s 5s/step - loss: 0.9520 - categorical_accuracy: 0.5958 - val_loss: 0.9481 - val_categorical_accuracy: 0.6100 - lr: 1.0000e-05\n",
      "Epoch 42/100\n",
      "14/14 [==============================] - ETA: 0s - loss: 0.9617 - categorical_accuracy: 0.5882\n",
      "Epoch 00042: saving model to model_init_conv_lstm_2023-10-0213_11_18.391040/model-00042-0.96169-0.58824-0.97688-0.57000.h5\n",
      "14/14 [==============================] - 62s 5s/step - loss: 0.9617 - categorical_accuracy: 0.5882 - val_loss: 0.9769 - val_categorical_accuracy: 0.5700 - lr: 1.0000e-05\n",
      "Epoch 43/100\n",
      "14/14 [==============================] - ETA: 0s - loss: 0.9582 - categorical_accuracy: 0.6003\n",
      "Epoch 00043: saving model to model_init_conv_lstm_2023-10-0213_11_18.391040/model-00043-0.95822-0.60030-0.94756-0.62000.h5\n",
      "14/14 [==============================] - 62s 5s/step - loss: 0.9582 - categorical_accuracy: 0.6003 - val_loss: 0.9476 - val_categorical_accuracy: 0.6200 - lr: 1.0000e-05\n",
      "Epoch 44/100\n",
      "14/14 [==============================] - ETA: 0s - loss: 0.9663 - categorical_accuracy: 0.5852\n",
      "Epoch 00044: saving model to model_init_conv_lstm_2023-10-0213_11_18.391040/model-00044-0.96631-0.58522-0.95073-0.60000.h5\n",
      "14/14 [==============================] - 62s 5s/step - loss: 0.9663 - categorical_accuracy: 0.5852 - val_loss: 0.9507 - val_categorical_accuracy: 0.6000 - lr: 1.0000e-05\n",
      "Epoch 45/100\n",
      "14/14 [==============================] - ETA: 0s - loss: 0.9615 - categorical_accuracy: 0.5822\n",
      "Epoch 00045: saving model to model_init_conv_lstm_2023-10-0213_11_18.391040/model-00045-0.96151-0.58220-0.94751-0.61000.h5\n",
      "14/14 [==============================] - 62s 5s/step - loss: 0.9615 - categorical_accuracy: 0.5822 - val_loss: 0.9475 - val_categorical_accuracy: 0.6100 - lr: 1.0000e-05\n",
      "Epoch 46/100\n",
      "14/14 [==============================] - ETA: 0s - loss: 0.9420 - categorical_accuracy: 0.6048\n",
      "Epoch 00046: saving model to model_init_conv_lstm_2023-10-0213_11_18.391040/model-00046-0.94200-0.60483-0.90546-0.65000.h5\n",
      "14/14 [==============================] - 62s 5s/step - loss: 0.9420 - categorical_accuracy: 0.6048 - val_loss: 0.9055 - val_categorical_accuracy: 0.6500 - lr: 1.0000e-05\n",
      "Epoch 47/100\n",
      "14/14 [==============================] - ETA: 0s - loss: 0.9618 - categorical_accuracy: 0.5988\n",
      "Epoch 00047: saving model to model_init_conv_lstm_2023-10-0213_11_18.391040/model-00047-0.96184-0.59879-0.94724-0.61000.h5\n",
      "14/14 [==============================] - 62s 5s/step - loss: 0.9618 - categorical_accuracy: 0.5988 - val_loss: 0.9472 - val_categorical_accuracy: 0.6100 - lr: 1.0000e-05\n",
      "Epoch 48/100\n",
      "14/14 [==============================] - ETA: 0s - loss: 0.9670 - categorical_accuracy: 0.5837\n",
      "Epoch 00048: saving model to model_init_conv_lstm_2023-10-0213_11_18.391040/model-00048-0.96699-0.58371-0.95097-0.61000.h5\n",
      "14/14 [==============================] - 63s 5s/step - loss: 0.9670 - categorical_accuracy: 0.5837 - val_loss: 0.9510 - val_categorical_accuracy: 0.6100 - lr: 1.0000e-05\n",
      "Epoch 49/100\n",
      "14/14 [==============================] - ETA: 0s - loss: 0.9404 - categorical_accuracy: 0.6109\n",
      "Epoch 00049: saving model to model_init_conv_lstm_2023-10-0213_11_18.391040/model-00049-0.94045-0.61086-0.94713-0.61000.h5\n",
      "14/14 [==============================] - 62s 5s/step - loss: 0.9404 - categorical_accuracy: 0.6109 - val_loss: 0.9471 - val_categorical_accuracy: 0.6100 - lr: 1.0000e-05\n",
      "Epoch 50/100\n",
      "14/14 [==============================] - ETA: 0s - loss: 0.9627 - categorical_accuracy: 0.6109\n",
      "Epoch 00050: saving model to model_init_conv_lstm_2023-10-0213_11_18.391040/model-00050-0.96268-0.61086-0.90184-0.63000.h5\n",
      "14/14 [==============================] - 60s 5s/step - loss: 0.9627 - categorical_accuracy: 0.6109 - val_loss: 0.9018 - val_categorical_accuracy: 0.6300 - lr: 1.0000e-05\n",
      "Epoch 51/100\n",
      "14/14 [==============================] - ETA: 0s - loss: 0.9501 - categorical_accuracy: 0.5897\n",
      "Epoch 00051: saving model to model_init_conv_lstm_2023-10-0213_11_18.391040/model-00051-0.95005-0.58974-0.94659-0.61000.h5\n",
      "14/14 [==============================] - 59s 4s/step - loss: 0.9501 - categorical_accuracy: 0.5897 - val_loss: 0.9466 - val_categorical_accuracy: 0.6100 - lr: 1.0000e-05\n",
      "Epoch 52/100\n",
      "14/14 [==============================] - ETA: 0s - loss: 0.9690 - categorical_accuracy: 0.5867\n",
      "Epoch 00052: saving model to model_init_conv_lstm_2023-10-0213_11_18.391040/model-00052-0.96903-0.58673-0.96946-0.57000.h5\n",
      "14/14 [==============================] - 60s 5s/step - loss: 0.9690 - categorical_accuracy: 0.5867 - val_loss: 0.9695 - val_categorical_accuracy: 0.5700 - lr: 1.0000e-05\n",
      "Epoch 53/100\n",
      "14/14 [==============================] - ETA: 0s - loss: 0.9558 - categorical_accuracy: 0.5762\n",
      "Epoch 00053: saving model to model_init_conv_lstm_2023-10-0213_11_18.391040/model-00053-0.95584-0.57617-0.94612-0.61000.h5\n",
      "14/14 [==============================] - 59s 5s/step - loss: 0.9558 - categorical_accuracy: 0.5762 - val_loss: 0.9461 - val_categorical_accuracy: 0.6100 - lr: 1.0000e-05\n",
      "Epoch 54/100\n",
      "14/14 [==============================] - ETA: 0s - loss: 0.9747 - categorical_accuracy: 0.5732\n",
      "Epoch 00054: saving model to model_init_conv_lstm_2023-10-0213_11_18.391040/model-00054-0.97469-0.57315-0.91095-0.60000.h5\n",
      "14/14 [==============================] - 60s 5s/step - loss: 0.9747 - categorical_accuracy: 0.5732 - val_loss: 0.9110 - val_categorical_accuracy: 0.6000 - lr: 1.0000e-05\n",
      "Epoch 55/100\n",
      "14/14 [==============================] - ETA: 0s - loss: 0.9312 - categorical_accuracy: 0.6290\n",
      "Epoch 00055: saving model to model_init_conv_lstm_2023-10-0213_11_18.391040/model-00055-0.93122-0.62896-0.94588-0.61000.h5\n",
      "14/14 [==============================] - 59s 5s/step - loss: 0.9312 - categorical_accuracy: 0.6290 - val_loss: 0.9459 - val_categorical_accuracy: 0.6100 - lr: 1.0000e-05\n",
      "Epoch 56/100\n",
      "14/14 [==============================] - ETA: 0s - loss: 0.9472 - categorical_accuracy: 0.6094\n",
      "Epoch 00056: saving model to model_init_conv_lstm_2023-10-0213_11_18.391040/model-00056-0.94722-0.60935-0.97837-0.56000.h5\n",
      "14/14 [==============================] - 59s 4s/step - loss: 0.9472 - categorical_accuracy: 0.6094 - val_loss: 0.9784 - val_categorical_accuracy: 0.5600 - lr: 1.0000e-05\n",
      "Epoch 57/100\n",
      "14/14 [==============================] - ETA: 0s - loss: 0.9555 - categorical_accuracy: 0.5913\n",
      "Epoch 00057: saving model to model_init_conv_lstm_2023-10-0213_11_18.391040/model-00057-0.95546-0.59125-0.94564-0.61000.h5\n",
      "14/14 [==============================] - 59s 4s/step - loss: 0.9555 - categorical_accuracy: 0.5913 - val_loss: 0.9456 - val_categorical_accuracy: 0.6100 - lr: 1.0000e-05\n",
      "Epoch 58/100\n",
      "14/14 [==============================] - ETA: 0s - loss: 0.9600 - categorical_accuracy: 0.5882\n",
      "Epoch 00058: saving model to model_init_conv_lstm_2023-10-0213_11_18.391040/model-00058-0.96000-0.58824-0.93819-0.65000.h5\n",
      "14/14 [==============================] - 59s 5s/step - loss: 0.9600 - categorical_accuracy: 0.5882 - val_loss: 0.9382 - val_categorical_accuracy: 0.6500 - lr: 1.0000e-05\n",
      "Epoch 59/100\n",
      "14/14 [==============================] - ETA: 0s - loss: 0.9601 - categorical_accuracy: 0.6229\n",
      "Epoch 00059: saving model to model_init_conv_lstm_2023-10-0213_11_18.391040/model-00059-0.96008-0.62293-0.94530-0.61000.h5\n",
      "14/14 [==============================] - 62s 5s/step - loss: 0.9601 - categorical_accuracy: 0.6229 - val_loss: 0.9453 - val_categorical_accuracy: 0.6100 - lr: 1.0000e-05\n",
      "Epoch 60/100\n",
      "14/14 [==============================] - ETA: 0s - loss: 0.9500 - categorical_accuracy: 0.6139\n",
      "Epoch 00060: saving model to model_init_conv_lstm_2023-10-0213_11_18.391040/model-00060-0.95004-0.61388-0.90849-0.66000.h5\n",
      "14/14 [==============================] - 60s 5s/step - loss: 0.9500 - categorical_accuracy: 0.6139 - val_loss: 0.9085 - val_categorical_accuracy: 0.6600 - lr: 1.0000e-05\n",
      "Epoch 61/100\n",
      "14/14 [==============================] - ETA: 0s - loss: 0.9573 - categorical_accuracy: 0.6018\n",
      "Epoch 00061: saving model to model_init_conv_lstm_2023-10-0213_11_18.391040/model-00061-0.95733-0.60181-0.94526-0.61000.h5\n",
      "14/14 [==============================] - 59s 5s/step - loss: 0.9573 - categorical_accuracy: 0.6018 - val_loss: 0.9453 - val_categorical_accuracy: 0.6100 - lr: 1.0000e-05\n",
      "Epoch 62/100\n",
      "14/14 [==============================] - ETA: 0s - loss: 0.9552 - categorical_accuracy: 0.5822\n",
      "Epoch 00062: saving model to model_init_conv_lstm_2023-10-0213_11_18.391040/model-00062-0.95516-0.58220-0.96771-0.58000.h5\n",
      "14/14 [==============================] - 58s 4s/step - loss: 0.9552 - categorical_accuracy: 0.5822 - val_loss: 0.9677 - val_categorical_accuracy: 0.5800 - lr: 1.0000e-05\n",
      "Epoch 63/100\n",
      "14/14 [==============================] - ETA: 0s - loss: 0.9801 - categorical_accuracy: 0.5807\n",
      "Epoch 00063: saving model to model_init_conv_lstm_2023-10-0213_11_18.391040/model-00063-0.98010-0.58069-0.94513-0.61000.h5\n",
      "14/14 [==============================] - 60s 5s/step - loss: 0.9801 - categorical_accuracy: 0.5807 - val_loss: 0.9451 - val_categorical_accuracy: 0.6100 - lr: 1.0000e-05\n",
      "Epoch 64/100\n",
      "14/14 [==============================] - ETA: 0s - loss: 0.9521 - categorical_accuracy: 0.5792\n",
      "Epoch 00064: saving model to model_init_conv_lstm_2023-10-0213_11_18.391040/model-00064-0.95205-0.57919-0.86903-0.66000.h5\n",
      "14/14 [==============================] - 58s 4s/step - loss: 0.9521 - categorical_accuracy: 0.5792 - val_loss: 0.8690 - val_categorical_accuracy: 0.6600 - lr: 1.0000e-05\n",
      "Epoch 65/100\n",
      "14/14 [==============================] - ETA: 0s - loss: 0.9495 - categorical_accuracy: 0.5958\n",
      "Epoch 00065: saving model to model_init_conv_lstm_2023-10-0213_11_18.391040/model-00065-0.94950-0.59578-0.94492-0.61000.h5\n",
      "14/14 [==============================] - 58s 4s/step - loss: 0.9495 - categorical_accuracy: 0.5958 - val_loss: 0.9449 - val_categorical_accuracy: 0.6100 - lr: 1.0000e-05\n",
      "Epoch 66/100\n",
      "14/14 [==============================] - ETA: 0s - loss: 0.9529 - categorical_accuracy: 0.6184\n",
      "Epoch 00066: saving model to model_init_conv_lstm_2023-10-0213_11_18.391040/model-00066-0.95285-0.61840-0.97599-0.56000.h5\n",
      "14/14 [==============================] - 61s 5s/step - loss: 0.9529 - categorical_accuracy: 0.6184 - val_loss: 0.9760 - val_categorical_accuracy: 0.5600 - lr: 1.0000e-05\n",
      "Epoch 67/100\n",
      "14/14 [==============================] - ETA: 0s - loss: 0.9514 - categorical_accuracy: 0.5988\n",
      "Epoch 00067: saving model to model_init_conv_lstm_2023-10-0213_11_18.391040/model-00067-0.95139-0.59879-0.94504-0.60000.h5\n",
      "14/14 [==============================] - 61s 5s/step - loss: 0.9514 - categorical_accuracy: 0.5988 - val_loss: 0.9450 - val_categorical_accuracy: 0.6000 - lr: 1.0000e-05\n",
      "Epoch 68/100\n",
      "14/14 [==============================] - ETA: 0s - loss: 0.9445 - categorical_accuracy: 0.5943\n",
      "Epoch 00068: saving model to model_init_conv_lstm_2023-10-0213_11_18.391040/model-00068-0.94448-0.59427-0.94151-0.66000.h5\n",
      "14/14 [==============================] - 59s 5s/step - loss: 0.9445 - categorical_accuracy: 0.5943 - val_loss: 0.9415 - val_categorical_accuracy: 0.6600 - lr: 1.0000e-05\n",
      "Epoch 69/100\n",
      "14/14 [==============================] - ETA: 0s - loss: 0.9557 - categorical_accuracy: 0.5958\n",
      "Epoch 00069: saving model to model_init_conv_lstm_2023-10-0213_11_18.391040/model-00069-0.95569-0.59578-0.94519-0.60000.h5\n",
      "14/14 [==============================] - 62s 5s/step - loss: 0.9557 - categorical_accuracy: 0.5958 - val_loss: 0.9452 - val_categorical_accuracy: 0.6000 - lr: 1.0000e-05\n",
      "Epoch 70/100\n",
      "14/14 [==============================] - ETA: 0s - loss: 0.9487 - categorical_accuracy: 0.6244\n",
      "Epoch 00070: saving model to model_init_conv_lstm_2023-10-0213_11_18.391040/model-00070-0.94867-0.62443-0.95012-0.58000.h5\n",
      "14/14 [==============================] - 62s 5s/step - loss: 0.9487 - categorical_accuracy: 0.6244 - val_loss: 0.9501 - val_categorical_accuracy: 0.5800 - lr: 1.0000e-05\n",
      "Epoch 71/100\n",
      "14/14 [==============================] - ETA: 0s - loss: 0.9543 - categorical_accuracy: 0.5762\n",
      "Epoch 00071: saving model to model_init_conv_lstm_2023-10-0213_11_18.391040/model-00071-0.95434-0.57617-0.94535-0.60000.h5\n",
      "14/14 [==============================] - 59s 5s/step - loss: 0.9543 - categorical_accuracy: 0.5762 - val_loss: 0.9454 - val_categorical_accuracy: 0.6000 - lr: 1.0000e-05\n",
      "Epoch 72/100\n",
      "14/14 [==============================] - ETA: 0s - loss: 0.9556 - categorical_accuracy: 0.5928\n",
      "Epoch 00072: saving model to model_init_conv_lstm_2023-10-0213_11_18.391040/model-00072-0.95563-0.59276-0.93359-0.64000.h5\n",
      "14/14 [==============================] - 63s 5s/step - loss: 0.9556 - categorical_accuracy: 0.5928 - val_loss: 0.9336 - val_categorical_accuracy: 0.6400 - lr: 1.0000e-05\n",
      "Epoch 73/100\n",
      "14/14 [==============================] - ETA: 0s - loss: 0.9670 - categorical_accuracy: 0.5973\n",
      "Epoch 00073: saving model to model_init_conv_lstm_2023-10-0213_11_18.391040/model-00073-0.96696-0.59729-0.94531-0.60000.h5\n",
      "14/14 [==============================] - 62s 5s/step - loss: 0.9670 - categorical_accuracy: 0.5973 - val_loss: 0.9453 - val_categorical_accuracy: 0.6000 - lr: 1.0000e-05\n",
      "Epoch 74/100\n",
      "14/14 [==============================] - ETA: 0s - loss: 0.9558 - categorical_accuracy: 0.5958\n",
      "Epoch 00074: saving model to model_init_conv_lstm_2023-10-0213_11_18.391040/model-00074-0.95579-0.59578-0.94177-0.62000.h5\n",
      "14/14 [==============================] - 60s 5s/step - loss: 0.9558 - categorical_accuracy: 0.5958 - val_loss: 0.9418 - val_categorical_accuracy: 0.6200 - lr: 1.0000e-05\n",
      "Epoch 75/100\n",
      "14/14 [==============================] - ETA: 0s - loss: 0.9493 - categorical_accuracy: 0.5837\n",
      "Epoch 00075: saving model to model_init_conv_lstm_2023-10-0213_11_18.391040/model-00075-0.94929-0.58371-0.94509-0.60000.h5\n",
      "14/14 [==============================] - 63s 5s/step - loss: 0.9493 - categorical_accuracy: 0.5837 - val_loss: 0.9451 - val_categorical_accuracy: 0.6000 - lr: 1.0000e-05\n",
      "Epoch 76/100\n",
      "14/14 [==============================] - ETA: 0s - loss: 0.9501 - categorical_accuracy: 0.5882\n",
      "Epoch 00076: saving model to model_init_conv_lstm_2023-10-0213_11_18.391040/model-00076-0.95007-0.58824-0.95110-0.64000.h5\n",
      "14/14 [==============================] - 62s 5s/step - loss: 0.9501 - categorical_accuracy: 0.5882 - val_loss: 0.9511 - val_categorical_accuracy: 0.6400 - lr: 1.0000e-05\n",
      "Epoch 77/100\n",
      "14/14 [==============================] - ETA: 0s - loss: 0.9467 - categorical_accuracy: 0.6048\n",
      "Epoch 00077: saving model to model_init_conv_lstm_2023-10-0213_11_18.391040/model-00077-0.94675-0.60483-0.94485-0.60000.h5\n",
      "14/14 [==============================] - 63s 5s/step - loss: 0.9467 - categorical_accuracy: 0.6048 - val_loss: 0.9449 - val_categorical_accuracy: 0.6000 - lr: 1.0000e-05\n",
      "Epoch 78/100\n",
      "14/14 [==============================] - ETA: 0s - loss: 0.9462 - categorical_accuracy: 0.6063\n",
      "Epoch 00078: saving model to model_init_conv_lstm_2023-10-0213_11_18.391040/model-00078-0.94617-0.60633-0.94408-0.58000.h5\n",
      "14/14 [==============================] - 61s 5s/step - loss: 0.9462 - categorical_accuracy: 0.6063 - val_loss: 0.9441 - val_categorical_accuracy: 0.5800 - lr: 1.0000e-05\n",
      "Epoch 79/100\n",
      "14/14 [==============================] - ETA: 0s - loss: 0.9519 - categorical_accuracy: 0.5867\n",
      "Epoch 00079: saving model to model_init_conv_lstm_2023-10-0213_11_18.391040/model-00079-0.95191-0.58673-0.94442-0.60000.h5\n",
      "14/14 [==============================] - 61s 5s/step - loss: 0.9519 - categorical_accuracy: 0.5867 - val_loss: 0.9444 - val_categorical_accuracy: 0.6000 - lr: 1.0000e-05\n",
      "Epoch 80/100\n",
      "14/14 [==============================] - ETA: 0s - loss: 0.9528 - categorical_accuracy: 0.6094\n",
      "Epoch 00080: saving model to model_init_conv_lstm_2023-10-0213_11_18.391040/model-00080-0.95276-0.60935-0.92456-0.63000.h5\n",
      "14/14 [==============================] - 58s 4s/step - loss: 0.9528 - categorical_accuracy: 0.6094 - val_loss: 0.9246 - val_categorical_accuracy: 0.6300 - lr: 1.0000e-05\n",
      "Epoch 81/100\n",
      "14/14 [==============================] - ETA: 0s - loss: 0.9498 - categorical_accuracy: 0.6124\n",
      "Epoch 00081: saving model to model_init_conv_lstm_2023-10-0213_11_18.391040/model-00081-0.94979-0.61237-0.94457-0.60000.h5\n",
      "14/14 [==============================] - 59s 4s/step - loss: 0.9498 - categorical_accuracy: 0.6124 - val_loss: 0.9446 - val_categorical_accuracy: 0.6000 - lr: 1.0000e-05\n",
      "Epoch 82/100\n",
      "14/14 [==============================] - ETA: 0s - loss: 0.9472 - categorical_accuracy: 0.5882\n",
      "Epoch 00082: saving model to model_init_conv_lstm_2023-10-0213_11_18.391040/model-00082-0.94720-0.58824-0.96811-0.58000.h5\n",
      "14/14 [==============================] - 60s 5s/step - loss: 0.9472 - categorical_accuracy: 0.5882 - val_loss: 0.9681 - val_categorical_accuracy: 0.5800 - lr: 1.0000e-05\n",
      "Epoch 83/100\n",
      "14/14 [==============================] - ETA: 0s - loss: 0.9588 - categorical_accuracy: 0.6094\n",
      "Epoch 00083: saving model to model_init_conv_lstm_2023-10-0213_11_18.391040/model-00083-0.95879-0.60935-0.94441-0.60000.h5\n",
      "14/14 [==============================] - 61s 5s/step - loss: 0.9588 - categorical_accuracy: 0.6094 - val_loss: 0.9444 - val_categorical_accuracy: 0.6000 - lr: 1.0000e-05\n",
      "Epoch 84/100\n",
      "14/14 [==============================] - ETA: 0s - loss: 0.9550 - categorical_accuracy: 0.5837\n",
      "Epoch 00084: saving model to model_init_conv_lstm_2023-10-0213_11_18.391040/model-00084-0.95502-0.58371-0.94269-0.62000.h5\n",
      "14/14 [==============================] - 61s 5s/step - loss: 0.9550 - categorical_accuracy: 0.5837 - val_loss: 0.9427 - val_categorical_accuracy: 0.6200 - lr: 1.0000e-05\n",
      "Epoch 85/100\n",
      "14/14 [==============================] - ETA: 0s - loss: 0.9646 - categorical_accuracy: 0.5611\n",
      "Epoch 00085: saving model to model_init_conv_lstm_2023-10-0213_11_18.391040/model-00085-0.96459-0.56109-0.94432-0.60000.h5\n",
      "14/14 [==============================] - 59s 5s/step - loss: 0.9646 - categorical_accuracy: 0.5611 - val_loss: 0.9443 - val_categorical_accuracy: 0.6000 - lr: 1.0000e-05\n",
      "Epoch 86/100\n",
      "14/14 [==============================] - ETA: 0s - loss: 0.9674 - categorical_accuracy: 0.5988\n",
      "Epoch 00086: saving model to model_init_conv_lstm_2023-10-0213_11_18.391040/model-00086-0.96739-0.59879-0.94159-0.61000.h5\n",
      "14/14 [==============================] - 59s 4s/step - loss: 0.9674 - categorical_accuracy: 0.5988 - val_loss: 0.9416 - val_categorical_accuracy: 0.6100 - lr: 1.0000e-05\n",
      "Epoch 87/100\n",
      "14/14 [==============================] - ETA: 0s - loss: 0.9594 - categorical_accuracy: 0.6124\n",
      "Epoch 00087: saving model to model_init_conv_lstm_2023-10-0213_11_18.391040/model-00087-0.95939-0.61237-0.94421-0.60000.h5\n",
      "14/14 [==============================] - 60s 5s/step - loss: 0.9594 - categorical_accuracy: 0.6124 - val_loss: 0.9442 - val_categorical_accuracy: 0.6000 - lr: 1.0000e-05\n",
      "Epoch 88/100\n",
      "14/14 [==============================] - ETA: 0s - loss: 0.9614 - categorical_accuracy: 0.5792\n",
      "Epoch 00088: saving model to model_init_conv_lstm_2023-10-0213_11_18.391040/model-00088-0.96141-0.57919-0.94823-0.60000.h5\n",
      "14/14 [==============================] - 60s 5s/step - loss: 0.9614 - categorical_accuracy: 0.5792 - val_loss: 0.9482 - val_categorical_accuracy: 0.6000 - lr: 1.0000e-05\n",
      "Epoch 89/100\n",
      "14/14 [==============================] - ETA: 0s - loss: 0.9547 - categorical_accuracy: 0.6184\n",
      "Epoch 00089: saving model to model_init_conv_lstm_2023-10-0213_11_18.391040/model-00089-0.95473-0.61840-0.94397-0.60000.h5\n",
      "14/14 [==============================] - 62s 5s/step - loss: 0.9547 - categorical_accuracy: 0.6184 - val_loss: 0.9440 - val_categorical_accuracy: 0.6000 - lr: 1.0000e-05\n",
      "Epoch 90/100\n",
      "14/14 [==============================] - ETA: 0s - loss: 0.9667 - categorical_accuracy: 0.6033\n",
      "Epoch 00090: saving model to model_init_conv_lstm_2023-10-0213_11_18.391040/model-00090-0.96670-0.60332-0.88895-0.64000.h5\n",
      "14/14 [==============================] - 59s 5s/step - loss: 0.9667 - categorical_accuracy: 0.6033 - val_loss: 0.8889 - val_categorical_accuracy: 0.6400 - lr: 1.0000e-05\n",
      "Epoch 91/100\n",
      "14/14 [==============================] - ETA: 0s - loss: 0.9490 - categorical_accuracy: 0.6003\n",
      "Epoch 00091: saving model to model_init_conv_lstm_2023-10-0213_11_18.391040/model-00091-0.94903-0.60030-0.94389-0.60000.h5\n",
      "14/14 [==============================] - 60s 5s/step - loss: 0.9490 - categorical_accuracy: 0.6003 - val_loss: 0.9439 - val_categorical_accuracy: 0.6000 - lr: 1.0000e-05\n",
      "Epoch 92/100\n",
      "14/14 [==============================] - ETA: 0s - loss: 0.9563 - categorical_accuracy: 0.6214\n",
      "Epoch 00092: saving model to model_init_conv_lstm_2023-10-0213_11_18.391040/model-00092-0.95630-0.62142-0.96773-0.60000.h5\n",
      "14/14 [==============================] - 62s 5s/step - loss: 0.9563 - categorical_accuracy: 0.6214 - val_loss: 0.9677 - val_categorical_accuracy: 0.6000 - lr: 1.0000e-05\n",
      "Epoch 93/100\n",
      "14/14 [==============================] - ETA: 0s - loss: 0.9563 - categorical_accuracy: 0.6018\n",
      "Epoch 00093: saving model to model_init_conv_lstm_2023-10-0213_11_18.391040/model-00093-0.95625-0.60181-0.94398-0.60000.h5\n",
      "14/14 [==============================] - 61s 5s/step - loss: 0.9563 - categorical_accuracy: 0.6018 - val_loss: 0.9440 - val_categorical_accuracy: 0.6000 - lr: 1.0000e-05\n",
      "Epoch 94/100\n",
      "14/14 [==============================] - ETA: 0s - loss: 0.9515 - categorical_accuracy: 0.5943\n",
      "Epoch 00094: saving model to model_init_conv_lstm_2023-10-0213_11_18.391040/model-00094-0.95152-0.59427-0.97429-0.58000.h5\n",
      "14/14 [==============================] - 62s 5s/step - loss: 0.9515 - categorical_accuracy: 0.5943 - val_loss: 0.9743 - val_categorical_accuracy: 0.5800 - lr: 1.0000e-05\n",
      "Epoch 95/100\n",
      "14/14 [==============================] - ETA: 0s - loss: 0.9407 - categorical_accuracy: 0.5928\n",
      "Epoch 00095: saving model to model_init_conv_lstm_2023-10-0213_11_18.391040/model-00095-0.94071-0.59276-0.94388-0.60000.h5\n",
      "14/14 [==============================] - 62s 5s/step - loss: 0.9407 - categorical_accuracy: 0.5928 - val_loss: 0.9439 - val_categorical_accuracy: 0.6000 - lr: 1.0000e-05\n",
      "Epoch 96/100\n",
      "14/14 [==============================] - ETA: 0s - loss: 0.9461 - categorical_accuracy: 0.5897\n",
      "Epoch 00096: saving model to model_init_conv_lstm_2023-10-0213_11_18.391040/model-00096-0.94610-0.58974-0.90026-0.65000.h5\n",
      "14/14 [==============================] - 62s 5s/step - loss: 0.9461 - categorical_accuracy: 0.5897 - val_loss: 0.9003 - val_categorical_accuracy: 0.6500 - lr: 1.0000e-05\n",
      "Epoch 97/100\n",
      "14/14 [==============================] - ETA: 0s - loss: 0.9524 - categorical_accuracy: 0.6063\n",
      "Epoch 00097: saving model to model_init_conv_lstm_2023-10-0213_11_18.391040/model-00097-0.95237-0.60633-0.94383-0.60000.h5\n",
      "14/14 [==============================] - 61s 5s/step - loss: 0.9524 - categorical_accuracy: 0.6063 - val_loss: 0.9438 - val_categorical_accuracy: 0.6000 - lr: 1.0000e-05\n",
      "Epoch 98/100\n",
      "14/14 [==============================] - ETA: 0s - loss: 0.9468 - categorical_accuracy: 0.5882\n",
      "Epoch 00098: saving model to model_init_conv_lstm_2023-10-0213_11_18.391040/model-00098-0.94684-0.58824-0.92593-0.61000.h5\n",
      "14/14 [==============================] - 60s 5s/step - loss: 0.9468 - categorical_accuracy: 0.5882 - val_loss: 0.9259 - val_categorical_accuracy: 0.6100 - lr: 1.0000e-05\n",
      "Epoch 99/100\n",
      "14/14 [==============================] - ETA: 0s - loss: 0.9662 - categorical_accuracy: 0.5897\n",
      "Epoch 00099: saving model to model_init_conv_lstm_2023-10-0213_11_18.391040/model-00099-0.96623-0.58974-0.94351-0.60000.h5\n",
      "14/14 [==============================] - 60s 5s/step - loss: 0.9662 - categorical_accuracy: 0.5897 - val_loss: 0.9435 - val_categorical_accuracy: 0.6000 - lr: 1.0000e-05\n",
      "Epoch 100/100\n",
      "14/14 [==============================] - ETA: 0s - loss: 0.9494 - categorical_accuracy: 0.6078\n",
      "Epoch 00100: saving model to model_init_conv_lstm_2023-10-0213_11_18.391040/model-00100-0.94944-0.60784-0.95893-0.55000.h5\n",
      "14/14 [==============================] - 59s 4s/step - loss: 0.9494 - categorical_accuracy: 0.6078 - val_loss: 0.9589 - val_categorical_accuracy: 0.5500 - lr: 1.0000e-05\n"
     ]
    },
    {
     "data": {
      "text/plain": [
       "<keras.callbacks.History at 0x7fcec0a0e040>"
      ]
     },
     "execution_count": 14,
     "metadata": {},
     "output_type": "execute_result"
    }
   ],
   "source": [
    "train_generator = generator(train_path, train_doc, batch_size, ablation=False)\n",
    "val_generator = generator(val_path, val_doc, batch_size, ablation=False)\n",
    "\n",
    "\n",
    "model_res_cnn.fit_generator(train_generator, steps_per_epoch=steps_per_epoch, epochs=num_epochs, verbose=1, \n",
    "                    callbacks=callbacks_list, validation_data=val_generator, \n",
    "                    validation_steps=validation_steps, class_weight=None, workers=1, initial_epoch=0)"
   ]
  },
  {
   "cell_type": "code",
   "execution_count": 14,
   "metadata": {
    "vscode": {
     "languageId": "python"
    }
   },
   "outputs": [],
   "source": [
    "from tensorflow.keras.models import Sequential\n",
    "from tensorflow.keras.layers import Dense, GRU, Dropout, Flatten, BatchNormalization, Activation, Conv3D, MaxPooling3D\n",
    "from tensorflow.keras.callbacks import ModelCheckpoint, ReduceLROnPlateau\n",
    "from tensorflow.keras import optimizers\n",
    "\n",
    "model = Sequential()\n",
    "model.add(Conv3D(64, (3,3,3), strides=(1,1,1), padding='same', input_shape=(16,120,120,3)))\n",
    "model.add(BatchNormalization())\n",
    "model.add(Activation('elu'))\n",
    "model.add(MaxPooling3D(pool_size=(2,2,1), strides=(2,2,1)))\n",
    "\n",
    "model.add(Conv3D(128, (3,3,3), strides=(1,1,1), padding='same'))\n",
    "model.add(BatchNormalization())\n",
    "model.add(Activation('elu'))\n",
    "model.add(MaxPooling3D(pool_size=(2,2,2), strides=(2,2,2)))\n",
    "\n",
    "# model.add(Dropout(0.25))\n",
    "\n",
    "model.add(Conv3D(256, (3,3,3), strides=(1,1,1), padding='same'))\n",
    "model.add(BatchNormalization())\n",
    "model.add(Activation('elu'))\n",
    "model.add(MaxPooling3D(pool_size=(2,2,2), strides=(2,2,2)))\n",
    "\n",
    "# model.add(Dropout(0.25))\n",
    "\n",
    "model.add(Conv3D(256, (3,3,3), strides=(1,1,1), padding='same'))\n",
    "model.add(BatchNormalization())\n",
    "model.add(Activation('elu'))\n",
    "model.add(MaxPooling3D(pool_size=(2,2,2), strides=(2,2,2)))\n",
    "\n",
    "model.add(Flatten())\n",
    "model.add(Dropout(0.5))\n",
    "model.add(Dense(512, activation='elu'))\n",
    "model.add(Dropout(0.5))\n",
    "model.add(Dense(5, activation='softmax'))"
   ]
  },
  {
   "cell_type": "markdown",
   "metadata": {},
   "source": [
    "Now that you have written the model, the next step is to `compile` the model. When you print the `summary` of the model, you'll see the total number of parameters you have to train."
   ]
  },
  {
   "cell_type": "code",
   "execution_count": 15,
   "metadata": {
    "scrolled": true,
    "vscode": {
     "languageId": "python"
    }
   },
   "outputs": [
    {
     "name": "stdout",
     "output_type": "stream",
     "text": [
      "Model: \"sequential_6\"\n",
      "_________________________________________________________________\n",
      " Layer (type)                Output Shape              Param #   \n",
      "=================================================================\n",
      " conv3d_24 (Conv3D)          (None, 16, 120, 120, 64)  5248      \n",
      "                                                                 \n",
      " batch_normalization_24 (Bat  (None, 16, 120, 120, 64)  256      \n",
      " chNormalization)                                                \n",
      "                                                                 \n",
      " activation_24 (Activation)  (None, 16, 120, 120, 64)  0         \n",
      "                                                                 \n",
      " max_pooling3d_24 (MaxPoolin  (None, 8, 60, 120, 64)   0         \n",
      " g3D)                                                            \n",
      "                                                                 \n",
      " conv3d_25 (Conv3D)          (None, 8, 60, 120, 128)   221312    \n",
      "                                                                 \n",
      " batch_normalization_25 (Bat  (None, 8, 60, 120, 128)  512       \n",
      " chNormalization)                                                \n",
      "                                                                 \n",
      " activation_25 (Activation)  (None, 8, 60, 120, 128)   0         \n",
      "                                                                 \n",
      " max_pooling3d_25 (MaxPoolin  (None, 4, 30, 60, 128)   0         \n",
      " g3D)                                                            \n",
      "                                                                 \n",
      " conv3d_26 (Conv3D)          (None, 4, 30, 60, 256)    884992    \n",
      "                                                                 \n",
      " batch_normalization_26 (Bat  (None, 4, 30, 60, 256)   1024      \n",
      " chNormalization)                                                \n",
      "                                                                 \n",
      " activation_26 (Activation)  (None, 4, 30, 60, 256)    0         \n",
      "                                                                 \n",
      " max_pooling3d_26 (MaxPoolin  (None, 2, 15, 30, 256)   0         \n",
      " g3D)                                                            \n",
      "                                                                 \n",
      " conv3d_27 (Conv3D)          (None, 2, 15, 30, 256)    1769728   \n",
      "                                                                 \n",
      " batch_normalization_27 (Bat  (None, 2, 15, 30, 256)   1024      \n",
      " chNormalization)                                                \n",
      "                                                                 \n",
      " activation_27 (Activation)  (None, 2, 15, 30, 256)    0         \n",
      "                                                                 \n",
      " max_pooling3d_27 (MaxPoolin  (None, 1, 7, 15, 256)    0         \n",
      " g3D)                                                            \n",
      "                                                                 \n",
      " flatten_2 (Flatten)         (None, 26880)             0         \n",
      "                                                                 \n",
      " dropout_4 (Dropout)         (None, 26880)             0         \n",
      "                                                                 \n",
      " dense_4 (Dense)             (None, 512)               13763072  \n",
      "                                                                 \n",
      " dropout_5 (Dropout)         (None, 512)               0         \n",
      "                                                                 \n",
      " dense_5 (Dense)             (None, 5)                 2565      \n",
      "                                                                 \n",
      "=================================================================\n",
      "Total params: 16,649,733\n",
      "Trainable params: 16,648,325\n",
      "Non-trainable params: 1,408\n",
      "_________________________________________________________________\n",
      "None\n"
     ]
    },
    {
     "name": "stderr",
     "output_type": "stream",
     "text": [
      "/usr/local/lib/python3.8/dist-packages/keras/optimizer_v2/gradient_descent.py:102: UserWarning: The `lr` argument is deprecated, use `learning_rate` instead.\n",
      "  super(SGD, self).__init__(name, **kwargs)\n"
     ]
    }
   ],
   "source": [
    "sgd = optimizers.SGD(lr=0.001, decay=1e-6, momentum=0.7, nesterov=True)\n",
    "model.compile(optimizer=sgd, loss='categorical_crossentropy', metrics=['categorical_accuracy'])\n",
    "print (model.summary())"
   ]
  },
  {
   "cell_type": "markdown",
   "metadata": {},
   "source": [
    "#### Run Ablations"
   ]
  },
  {
   "cell_type": "markdown",
   "metadata": {},
   "source": [
    "Let us create the `train_generator` and the `val_generator` which will be used in `.fit_generator`."
   ]
  },
  {
   "cell_type": "code",
   "execution_count": 19,
   "metadata": {
    "vscode": {
     "languageId": "python"
    }
   },
   "outputs": [],
   "source": [
    "train_generator = generator(train_path, train_doc, 64, ablation=False)\n",
    "val_generator = generator(val_path, val_doc, 64, ablation=False)"
   ]
  },
  {
   "cell_type": "code",
   "execution_count": 20,
   "metadata": {
    "vscode": {
     "languageId": "python"
    }
   },
   "outputs": [
    {
     "name": "stdout",
     "output_type": "stream",
     "text": [
      "WARNING:tensorflow:`epsilon` argument is deprecated and will be removed, use `min_delta` instead.\n"
     ]
    }
   ],
   "source": [
    "model_name = '3D_convo' + '_' + str(curr_dt_time).replace(' ','').replace(':','_') + '/'\n",
    "    \n",
    "if not os.path.exists(model_name):\n",
    "    os.mkdir(model_name)\n",
    "        \n",
    "filepath = model_name + 'model-{epoch:05d}-{loss:.5f}-{categorical_accuracy:.5f}-{val_loss:.5f}-{val_categorical_accuracy:.5f}.h5'\n",
    "\n",
    "checkpoint = ModelCheckpoint(filepath, monitor='val_loss', verbose=1, save_best_only=False, save_weights_only=False, mode='auto',save_freq = num_epochs)\n",
    "\n",
    "LR = ReduceLROnPlateau(monitor='val_loss', factor=0.5, patience=2, verbose=1, mode='min', epsilon=0.0001, cooldown=0, min_lr=0.00001)\n",
    "callbacks_list = [checkpoint, LR]"
   ]
  },
  {
   "cell_type": "markdown",
   "metadata": {},
   "source": [
    "The `steps_per_epoch` and `validation_steps` are used by `fit` method to decide the number of next() calls it need to make."
   ]
  },
  {
   "cell_type": "code",
   "execution_count": 21,
   "metadata": {
    "vscode": {
     "languageId": "python"
    }
   },
   "outputs": [],
   "source": [
    "if (num_train_sequences%batch_size) == 0:\n",
    "    steps_per_epoch = int(num_train_sequences/batch_size)\n",
    "else:\n",
    "    steps_per_epoch = (num_train_sequences//batch_size) + 1\n",
    "\n",
    "if (num_val_sequences%batch_size) == 0:\n",
    "    validation_steps = int(num_val_sequences/batch_size)\n",
    "else:\n",
    "    validation_steps = (num_val_sequences//batch_size) + 1"
   ]
  },
  {
   "cell_type": "markdown",
   "metadata": {},
   "source": [
    "Let us now fit the model. This will start training the model and with the help of the checkpoints, you'll be able to save the model at the end of each epoch."
   ]
  },
  {
   "cell_type": "markdown",
   "metadata": {},
   "source": [
    "#### Run for 10 epochs"
   ]
  },
  {
   "cell_type": "code",
   "execution_count": 22,
   "metadata": {
    "vscode": {
     "languageId": "python"
    }
   },
   "outputs": [
    {
     "name": "stdout",
     "output_type": "stream",
     "text": [
      "Source path =  /home/datasets/Project_data/train ; batch size = 64\n",
      "Epoch 1/10\n"
     ]
    },
    {
     "name": "stderr",
     "output_type": "stream",
     "text": [
      "2023-10-03 18:00:33.379947: I tensorflow/stream_executor/cuda/cuda_dnn.cc:377] Loaded cuDNN version 8302\n",
      "2023-10-03 18:00:37.072700: W tensorflow/core/framework/op_kernel.cc:1733] INVALID_ARGUMENT: required broadcastable shapes\n"
     ]
    },
    {
     "ename": "InvalidArgumentError",
     "evalue": " logits and labels must be broadcastable: logits_size=[0,5] labels_size=[64,5]\n\t [[node categorical_crossentropy/softmax_cross_entropy_with_logits\n (defined at /usr/local/lib/python3.8/dist-packages/keras/backend.py:5009)\n]] [Op:__inference_train_function_3124]\n\nErrors may have originated from an input operation.\nInput Source operations connected to node categorical_crossentropy/softmax_cross_entropy_with_logits:\nIn[0] categorical_crossentropy/softmax_cross_entropy_with_logits/Reshape:\t\nIn[1] categorical_crossentropy/softmax_cross_entropy_with_logits/Reshape_1:\n\nOperation defined at: (most recent call last)\n>>>   File \"/usr/lib/python3.8/runpy.py\", line 194, in _run_module_as_main\n>>>     return _run_code(code, main_globals, None,\n>>> \n>>>   File \"/usr/lib/python3.8/runpy.py\", line 87, in _run_code\n>>>     exec(code, run_globals)\n>>> \n>>>   File \"/usr/local/lib/python3.8/dist-packages/ipykernel_launcher.py\", line 16, in <module>\n>>>     app.launch_new_instance()\n>>> \n>>>   File \"/usr/local/lib/python3.8/dist-packages/traitlets/config/application.py\", line 846, in launch_instance\n>>>     app.start()\n>>> \n>>>   File \"/usr/local/lib/python3.8/dist-packages/ipykernel/kernelapp.py\", line 677, in start\n>>>     self.io_loop.start()\n>>> \n>>>   File \"/usr/local/lib/python3.8/dist-packages/tornado/platform/asyncio.py\", line 199, in start\n>>>     self.asyncio_loop.run_forever()\n>>> \n>>>   File \"/usr/lib/python3.8/asyncio/base_events.py\", line 570, in run_forever\n>>>     self._run_once()\n>>> \n>>>   File \"/usr/lib/python3.8/asyncio/base_events.py\", line 1859, in _run_once\n>>>     handle._run()\n>>> \n>>>   File \"/usr/lib/python3.8/asyncio/events.py\", line 81, in _run\n>>>     self._context.run(self._callback, *self._args)\n>>> \n>>>   File \"/usr/local/lib/python3.8/dist-packages/ipykernel/kernelbase.py\", line 461, in dispatch_queue\n>>>     await self.process_one()\n>>> \n>>>   File \"/usr/local/lib/python3.8/dist-packages/ipykernel/kernelbase.py\", line 450, in process_one\n>>>     await dispatch(*args)\n>>> \n>>>   File \"/usr/local/lib/python3.8/dist-packages/ipykernel/kernelbase.py\", line 357, in dispatch_shell\n>>>     await result\n>>> \n>>>   File \"/usr/local/lib/python3.8/dist-packages/ipykernel/kernelbase.py\", line 652, in execute_request\n>>>     reply_content = await reply_content\n>>> \n>>>   File \"/usr/local/lib/python3.8/dist-packages/ipykernel/ipkernel.py\", line 359, in do_execute\n>>>     res = shell.run_cell(code, store_history=store_history, silent=silent)\n>>> \n>>>   File \"/usr/local/lib/python3.8/dist-packages/ipykernel/zmqshell.py\", line 532, in run_cell\n>>>     return super().run_cell(*args, **kwargs)\n>>> \n>>>   File \"/usr/local/lib/python3.8/dist-packages/IPython/core/interactiveshell.py\", line 2914, in run_cell\n>>>     result = self._run_cell(\n>>> \n>>>   File \"/usr/local/lib/python3.8/dist-packages/IPython/core/interactiveshell.py\", line 2960, in _run_cell\n>>>     return runner(coro)\n>>> \n>>>   File \"/usr/local/lib/python3.8/dist-packages/IPython/core/async_helpers.py\", line 78, in _pseudo_sync_runner\n>>>     coro.send(None)\n>>> \n>>>   File \"/usr/local/lib/python3.8/dist-packages/IPython/core/interactiveshell.py\", line 3185, in run_cell_async\n>>>     has_raised = await self.run_ast_nodes(code_ast.body, cell_name,\n>>> \n>>>   File \"/usr/local/lib/python3.8/dist-packages/IPython/core/interactiveshell.py\", line 3377, in run_ast_nodes\n>>>     if (await self.run_code(code, result,  async_=asy)):\n>>> \n>>>   File \"/usr/local/lib/python3.8/dist-packages/IPython/core/interactiveshell.py\", line 3457, in run_code\n>>>     exec(code_obj, self.user_global_ns, self.user_ns)\n>>> \n>>>   File \"/tmp/ipykernel_303/520633270.py\", line 1, in <module>\n>>>     model.fit(train_generator, steps_per_epoch=steps_per_epoch, epochs=10, verbose=1,\n>>> \n>>>   File \"/usr/local/lib/python3.8/dist-packages/keras/utils/traceback_utils.py\", line 64, in error_handler\n>>>     return fn(*args, **kwargs)\n>>> \n>>>   File \"/usr/local/lib/python3.8/dist-packages/keras/engine/training.py\", line 1216, in fit\n>>>     tmp_logs = self.train_function(iterator)\n>>> \n>>>   File \"/usr/local/lib/python3.8/dist-packages/keras/engine/training.py\", line 878, in train_function\n>>>     return step_function(self, iterator)\n>>> \n>>>   File \"/usr/local/lib/python3.8/dist-packages/keras/engine/training.py\", line 867, in step_function\n>>>     outputs = model.distribute_strategy.run(run_step, args=(data,))\n>>> \n>>>   File \"/usr/local/lib/python3.8/dist-packages/keras/engine/training.py\", line 860, in run_step\n>>>     outputs = model.train_step(data)\n>>> \n>>>   File \"/usr/local/lib/python3.8/dist-packages/keras/engine/training.py\", line 809, in train_step\n>>>     loss = self.compiled_loss(\n>>> \n>>>   File \"/usr/local/lib/python3.8/dist-packages/keras/engine/compile_utils.py\", line 201, in __call__\n>>>     loss_value = loss_obj(y_t, y_p, sample_weight=sw)\n>>> \n>>>   File \"/usr/local/lib/python3.8/dist-packages/keras/losses.py\", line 141, in __call__\n>>>     losses = call_fn(y_true, y_pred)\n>>> \n>>>   File \"/usr/local/lib/python3.8/dist-packages/keras/losses.py\", line 245, in call\n>>>     return ag_fn(y_true, y_pred, **self._fn_kwargs)\n>>> \n>>>   File \"/usr/local/lib/python3.8/dist-packages/keras/losses.py\", line 1664, in categorical_crossentropy\n>>>     return backend.categorical_crossentropy(\n>>> \n>>>   File \"/usr/local/lib/python3.8/dist-packages/keras/backend.py\", line 5009, in categorical_crossentropy\n>>>     return tf.nn.softmax_cross_entropy_with_logits(\n>>> ",
     "output_type": "error",
     "traceback": [
      "\u001b[0;31m---------------------------------------------------------------------------\u001b[0m",
      "\u001b[0;31mInvalidArgumentError\u001b[0m                      Traceback (most recent call last)",
      "\u001b[0;32m/tmp/ipykernel_303/520633270.py\u001b[0m in \u001b[0;36m<module>\u001b[0;34m\u001b[0m\n\u001b[0;32m----> 1\u001b[0;31m model.fit(train_generator, steps_per_epoch=steps_per_epoch, epochs=10, verbose=1, \n\u001b[0m\u001b[1;32m      2\u001b[0m                     \u001b[0mcallbacks\u001b[0m\u001b[0;34m=\u001b[0m\u001b[0mcallbacks_list\u001b[0m\u001b[0;34m,\u001b[0m \u001b[0mvalidation_data\u001b[0m\u001b[0;34m=\u001b[0m\u001b[0mval_generator\u001b[0m\u001b[0;34m,\u001b[0m\u001b[0;34m\u001b[0m\u001b[0;34m\u001b[0m\u001b[0m\n\u001b[1;32m      3\u001b[0m                     validation_steps=validation_steps, class_weight=None, workers=1, initial_epoch=0)\n",
      "\u001b[0;32m/usr/local/lib/python3.8/dist-packages/keras/utils/traceback_utils.py\u001b[0m in \u001b[0;36merror_handler\u001b[0;34m(*args, **kwargs)\u001b[0m\n\u001b[1;32m     65\u001b[0m     \u001b[0;32mexcept\u001b[0m \u001b[0mException\u001b[0m \u001b[0;32mas\u001b[0m \u001b[0me\u001b[0m\u001b[0;34m:\u001b[0m  \u001b[0;31m# pylint: disable=broad-except\u001b[0m\u001b[0;34m\u001b[0m\u001b[0;34m\u001b[0m\u001b[0m\n\u001b[1;32m     66\u001b[0m       \u001b[0mfiltered_tb\u001b[0m \u001b[0;34m=\u001b[0m \u001b[0m_process_traceback_frames\u001b[0m\u001b[0;34m(\u001b[0m\u001b[0me\u001b[0m\u001b[0;34m.\u001b[0m\u001b[0m__traceback__\u001b[0m\u001b[0;34m)\u001b[0m\u001b[0;34m\u001b[0m\u001b[0;34m\u001b[0m\u001b[0m\n\u001b[0;32m---> 67\u001b[0;31m       \u001b[0;32mraise\u001b[0m \u001b[0me\u001b[0m\u001b[0;34m.\u001b[0m\u001b[0mwith_traceback\u001b[0m\u001b[0;34m(\u001b[0m\u001b[0mfiltered_tb\u001b[0m\u001b[0;34m)\u001b[0m \u001b[0;32mfrom\u001b[0m \u001b[0;32mNone\u001b[0m\u001b[0;34m\u001b[0m\u001b[0;34m\u001b[0m\u001b[0m\n\u001b[0m\u001b[1;32m     68\u001b[0m     \u001b[0;32mfinally\u001b[0m\u001b[0;34m:\u001b[0m\u001b[0;34m\u001b[0m\u001b[0;34m\u001b[0m\u001b[0m\n\u001b[1;32m     69\u001b[0m       \u001b[0;32mdel\u001b[0m \u001b[0mfiltered_tb\u001b[0m\u001b[0;34m\u001b[0m\u001b[0;34m\u001b[0m\u001b[0m\n",
      "\u001b[0;32m/usr/local/lib/python3.8/dist-packages/tensorflow/python/eager/execute.py\u001b[0m in \u001b[0;36mquick_execute\u001b[0;34m(op_name, num_outputs, inputs, attrs, ctx, name)\u001b[0m\n\u001b[1;32m     56\u001b[0m   \u001b[0;32mtry\u001b[0m\u001b[0;34m:\u001b[0m\u001b[0;34m\u001b[0m\u001b[0;34m\u001b[0m\u001b[0m\n\u001b[1;32m     57\u001b[0m     \u001b[0mctx\u001b[0m\u001b[0;34m.\u001b[0m\u001b[0mensure_initialized\u001b[0m\u001b[0;34m(\u001b[0m\u001b[0;34m)\u001b[0m\u001b[0;34m\u001b[0m\u001b[0;34m\u001b[0m\u001b[0m\n\u001b[0;32m---> 58\u001b[0;31m     tensors = pywrap_tfe.TFE_Py_Execute(ctx._handle, device_name, op_name,\n\u001b[0m\u001b[1;32m     59\u001b[0m                                         inputs, attrs, num_outputs)\n\u001b[1;32m     60\u001b[0m   \u001b[0;32mexcept\u001b[0m \u001b[0mcore\u001b[0m\u001b[0;34m.\u001b[0m\u001b[0m_NotOkStatusException\u001b[0m \u001b[0;32mas\u001b[0m \u001b[0me\u001b[0m\u001b[0;34m:\u001b[0m\u001b[0;34m\u001b[0m\u001b[0;34m\u001b[0m\u001b[0m\n",
      "\u001b[0;31mInvalidArgumentError\u001b[0m:  logits and labels must be broadcastable: logits_size=[0,5] labels_size=[64,5]\n\t [[node categorical_crossentropy/softmax_cross_entropy_with_logits\n (defined at /usr/local/lib/python3.8/dist-packages/keras/backend.py:5009)\n]] [Op:__inference_train_function_3124]\n\nErrors may have originated from an input operation.\nInput Source operations connected to node categorical_crossentropy/softmax_cross_entropy_with_logits:\nIn[0] categorical_crossentropy/softmax_cross_entropy_with_logits/Reshape:\t\nIn[1] categorical_crossentropy/softmax_cross_entropy_with_logits/Reshape_1:\n\nOperation defined at: (most recent call last)\n>>>   File \"/usr/lib/python3.8/runpy.py\", line 194, in _run_module_as_main\n>>>     return _run_code(code, main_globals, None,\n>>> \n>>>   File \"/usr/lib/python3.8/runpy.py\", line 87, in _run_code\n>>>     exec(code, run_globals)\n>>> \n>>>   File \"/usr/local/lib/python3.8/dist-packages/ipykernel_launcher.py\", line 16, in <module>\n>>>     app.launch_new_instance()\n>>> \n>>>   File \"/usr/local/lib/python3.8/dist-packages/traitlets/config/application.py\", line 846, in launch_instance\n>>>     app.start()\n>>> \n>>>   File \"/usr/local/lib/python3.8/dist-packages/ipykernel/kernelapp.py\", line 677, in start\n>>>     self.io_loop.start()\n>>> \n>>>   File \"/usr/local/lib/python3.8/dist-packages/tornado/platform/asyncio.py\", line 199, in start\n>>>     self.asyncio_loop.run_forever()\n>>> \n>>>   File \"/usr/lib/python3.8/asyncio/base_events.py\", line 570, in run_forever\n>>>     self._run_once()\n>>> \n>>>   File \"/usr/lib/python3.8/asyncio/base_events.py\", line 1859, in _run_once\n>>>     handle._run()\n>>> \n>>>   File \"/usr/lib/python3.8/asyncio/events.py\", line 81, in _run\n>>>     self._context.run(self._callback, *self._args)\n>>> \n>>>   File \"/usr/local/lib/python3.8/dist-packages/ipykernel/kernelbase.py\", line 461, in dispatch_queue\n>>>     await self.process_one()\n>>> \n>>>   File \"/usr/local/lib/python3.8/dist-packages/ipykernel/kernelbase.py\", line 450, in process_one\n>>>     await dispatch(*args)\n>>> \n>>>   File \"/usr/local/lib/python3.8/dist-packages/ipykernel/kernelbase.py\", line 357, in dispatch_shell\n>>>     await result\n>>> \n>>>   File \"/usr/local/lib/python3.8/dist-packages/ipykernel/kernelbase.py\", line 652, in execute_request\n>>>     reply_content = await reply_content\n>>> \n>>>   File \"/usr/local/lib/python3.8/dist-packages/ipykernel/ipkernel.py\", line 359, in do_execute\n>>>     res = shell.run_cell(code, store_history=store_history, silent=silent)\n>>> \n>>>   File \"/usr/local/lib/python3.8/dist-packages/ipykernel/zmqshell.py\", line 532, in run_cell\n>>>     return super().run_cell(*args, **kwargs)\n>>> \n>>>   File \"/usr/local/lib/python3.8/dist-packages/IPython/core/interactiveshell.py\", line 2914, in run_cell\n>>>     result = self._run_cell(\n>>> \n>>>   File \"/usr/local/lib/python3.8/dist-packages/IPython/core/interactiveshell.py\", line 2960, in _run_cell\n>>>     return runner(coro)\n>>> \n>>>   File \"/usr/local/lib/python3.8/dist-packages/IPython/core/async_helpers.py\", line 78, in _pseudo_sync_runner\n>>>     coro.send(None)\n>>> \n>>>   File \"/usr/local/lib/python3.8/dist-packages/IPython/core/interactiveshell.py\", line 3185, in run_cell_async\n>>>     has_raised = await self.run_ast_nodes(code_ast.body, cell_name,\n>>> \n>>>   File \"/usr/local/lib/python3.8/dist-packages/IPython/core/interactiveshell.py\", line 3377, in run_ast_nodes\n>>>     if (await self.run_code(code, result,  async_=asy)):\n>>> \n>>>   File \"/usr/local/lib/python3.8/dist-packages/IPython/core/interactiveshell.py\", line 3457, in run_code\n>>>     exec(code_obj, self.user_global_ns, self.user_ns)\n>>> \n>>>   File \"/tmp/ipykernel_303/520633270.py\", line 1, in <module>\n>>>     model.fit(train_generator, steps_per_epoch=steps_per_epoch, epochs=10, verbose=1,\n>>> \n>>>   File \"/usr/local/lib/python3.8/dist-packages/keras/utils/traceback_utils.py\", line 64, in error_handler\n>>>     return fn(*args, **kwargs)\n>>> \n>>>   File \"/usr/local/lib/python3.8/dist-packages/keras/engine/training.py\", line 1216, in fit\n>>>     tmp_logs = self.train_function(iterator)\n>>> \n>>>   File \"/usr/local/lib/python3.8/dist-packages/keras/engine/training.py\", line 878, in train_function\n>>>     return step_function(self, iterator)\n>>> \n>>>   File \"/usr/local/lib/python3.8/dist-packages/keras/engine/training.py\", line 867, in step_function\n>>>     outputs = model.distribute_strategy.run(run_step, args=(data,))\n>>> \n>>>   File \"/usr/local/lib/python3.8/dist-packages/keras/engine/training.py\", line 860, in run_step\n>>>     outputs = model.train_step(data)\n>>> \n>>>   File \"/usr/local/lib/python3.8/dist-packages/keras/engine/training.py\", line 809, in train_step\n>>>     loss = self.compiled_loss(\n>>> \n>>>   File \"/usr/local/lib/python3.8/dist-packages/keras/engine/compile_utils.py\", line 201, in __call__\n>>>     loss_value = loss_obj(y_t, y_p, sample_weight=sw)\n>>> \n>>>   File \"/usr/local/lib/python3.8/dist-packages/keras/losses.py\", line 141, in __call__\n>>>     losses = call_fn(y_true, y_pred)\n>>> \n>>>   File \"/usr/local/lib/python3.8/dist-packages/keras/losses.py\", line 245, in call\n>>>     return ag_fn(y_true, y_pred, **self._fn_kwargs)\n>>> \n>>>   File \"/usr/local/lib/python3.8/dist-packages/keras/losses.py\", line 1664, in categorical_crossentropy\n>>>     return backend.categorical_crossentropy(\n>>> \n>>>   File \"/usr/local/lib/python3.8/dist-packages/keras/backend.py\", line 5009, in categorical_crossentropy\n>>>     return tf.nn.softmax_cross_entropy_with_logits(\n>>> "
     ]
    }
   ],
   "source": [
    "model.fit(train_generator, steps_per_epoch=steps_per_epoch, epochs=10, verbose=1, \n",
    "                    callbacks=callbacks_list, validation_data=val_generator, \n",
    "                    validation_steps=validation_steps, class_weight=None, workers=1, initial_epoch=0)"
   ]
  },
  {
   "cell_type": "code",
   "execution_count": null,
   "metadata": {
    "vscode": {
     "languageId": "python"
    }
   },
   "outputs": [],
   "source": []
  }
 ],
 "metadata": {
  "kernelspec": {
   "display_name": "Python 3 (ipykernel)",
   "language": "python",
   "name": "python3"
  }
 },
 "nbformat": 4,
 "nbformat_minor": 4
}
