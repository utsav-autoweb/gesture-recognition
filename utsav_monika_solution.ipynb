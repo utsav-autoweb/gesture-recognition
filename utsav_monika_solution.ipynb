{
 "cells": [
  {
   "cell_type": "markdown",
   "metadata": {},
   "source": [
    "# Gesture Recognition\n",
    "In this group project, you are going to build a 3D Conv model that will be able to predict the 5 gestures correctly. Please import the following libraries to get started. Once you have completed the code you can download the notebook for making a submission."
   ]
  },
  {
   "cell_type": "code",
   "execution_count": 1,
   "metadata": {},
   "outputs": [],
   "source": [
    "import numpy as np\n",
    "import os\n",
    "from imageio import imread\n",
    "from skimage.transform import resize\n",
    "import datetime\n",
    "import os"
   ]
  },
  {
   "cell_type": "markdown",
   "metadata": {},
   "source": [
    "We set the random seed so that the results don't vary drastically."
   ]
  },
  {
   "cell_type": "code",
   "execution_count": 2,
   "metadata": {},
   "outputs": [],
   "source": [
    "np.random.seed(30)\n",
    "import random as rn\n",
    "rn.seed(30)\n",
    "from tensorflow import keras\n",
    "import tensorflow as tf\n",
    "tf.random.set_seed(30)"
   ]
  },
  {
   "cell_type": "markdown",
   "metadata": {},
   "source": [
    "In this block, you read the folder names for training and validation. You also set the `batch_size` here. Note that you set the batch size in such a way that you are able to use the GPU in full capacity. You keep increasing the batch size until the machine throws an error."
   ]
  },
  {
   "cell_type": "markdown",
   "metadata": {},
   "source": [
    "**data path: /home/datasets/Project_data**"
   ]
  },
  {
   "cell_type": "code",
   "execution_count": 3,
   "metadata": {},
   "outputs": [],
   "source": [
    "train_doc = np.random.permutation(open('/home/datasets/Project_data/train.csv').readlines())\n",
    "val_doc = np.random.permutation(open('/home/datasets/Project_data/val.csv').readlines())\n",
    "batch_size = 100 #experiment with the batch size"
   ]
  },
  {
   "cell_type": "markdown",
   "metadata": {},
   "source": [
    "## Generator\n",
    "This is one of the most important part of the code. The overall structure of the generator has been given. In the generator, you are going to preprocess the images as you have images of 2 different dimensions as well as create a batch of video frames. You have to experiment with `img_idx`, `y`,`z` and normalization such that you get high accuracy."
   ]
  },
  {
   "cell_type": "code",
   "execution_count": 4,
   "metadata": {},
   "outputs": [],
   "source": [
    "def generator(source_path, folder_list, batch_size, ablation = False):\n",
    "    print( 'Source path = ', source_path, '; batch size =', batch_size)\n",
    "    #create a list of image numbers you want to use for a particular video\n",
    "    #Since back-to-back frames will have similar information we can choose only the even frames\n",
    "    img_idx = [0,1,2,4,6,8,10,12,14,16,18,20,22,24,26,27,28,29]\n",
    "    while True:\n",
    "        if ablation==True: \n",
    "          f = np.random.permutation(folder_list)\n",
    "          t = np.random.choice(f, 10) # work with only 10 folders for ablation\n",
    "        else:\n",
    "          t = np.random.permutation(folder_list)\n",
    "        # calculate the number of batches\n",
    "        num_batches = int(len(t)/batch_size)\n",
    "        for batch in range(num_batches): # we iterate over the number of batches\n",
    "            batch_data = np.zeros((batch_size,len(img_idx),120,120,3)) # x is the number of images you use for each video, (y,z) is the final size of the input images and 3 is the number of channels RGB\n",
    "            batch_labels = np.zeros((batch_size,5)) # batch_labels is the one hot representation of the output\n",
    "            for folder in range(batch_size): # iterate over the batch_size\n",
    "                imgs = os.listdir(source_path+'/'+ t[folder + (batch*batch_size)].split(';')[0]) # read all the images in the folder\n",
    "                for idx,item in enumerate(img_idx): #  Iterate iver the frames/images of a folder to read them in\n",
    "                    image = imread(source_path+'/'+ t[folder + (batch*batch_size)].strip().split(';')[0]+'/'+imgs[item]).astype(np.float32)\n",
    "\n",
    "                    #crop the images and resize them. Note that the images are of 2 different shape\n",
    "                    #and the conv3D will throw error if the inputs in a batch have different shapes\n",
    "\n",
    "                   \n",
    "                    if image.shape[1] == 160:\n",
    "                        image = resize(image[:,20:140,:],(120,120)).astype(np.float32)\n",
    "                    else:\n",
    "                        image = resize(image,(120,120)).astype(np.float32)\n",
    "\n",
    "\n",
    "                    #Normalizing using the mean of the 3 channels.\n",
    "                    batch_data[folder,idx,:,:,0] = image[:,:,0] - 104\n",
    "                    batch_data[folder,idx,:,:,1] = image[:,:,1] - 117\n",
    "                    batch_data[folder,idx,:,:,2] = image[:,:,2] - 123\n",
    "\n",
    "\n",
    "                batch_labels[folder, int(t[folder + (batch*batch_size)].strip().split(';')[2])] = 1\n",
    "            yield batch_data, batch_labels #you yield the batch_data and the batch_labels, remember what does yield do\n",
    "\n",
    "\n",
    "        # write the code for the remaining data points which are left after full batches\n",
    "        if (len(t)%batch_size) != 0:\n",
    "            batch_data = np.zeros((len(t)%batch_size,len(img_idx),120,120,3))\n",
    "            batch_labels = np.zeros((len(t)%batch_size,5))\n",
    "            for folder in range(len(t)%batch_size):\n",
    "                imgs = os.listdir(source_path+'/'+ t[folder + (num_batches*batch_size)].split(';')[0])\n",
    "                for idx,item in enumerate(img_idx):\n",
    "                    image = imread(source_path+'/'+ t[folder + (num_batches*batch_size)].strip().split(';')[0]+'/'+imgs[item]).astype(np.float32)\n",
    "                    if image.shape[1] == 160:\n",
    "                        image = resize(image[:,20:140,:],(120,120)).astype(np.float32)\n",
    "                    else:\n",
    "                        image = resize(image,(120,120)).astype(np.float32)\n",
    "\n",
    "                    batch_data[folder,idx,:,:,0] = image[:,:,0] - 104\n",
    "                    batch_data[folder,idx,:,:,1] = image[:,:,1] - 117\n",
    "                    batch_data[folder,idx,:,:,2] = image[:,:,2] - 123\n",
    "\n",
    "                batch_labels[folder, int(t[folder + (num_batches*batch_size)].strip().split(';')[2])] = 1\n",
    "\n",
    "            yield batch_data, batch_labels\n"
   ]
  },
  {
   "cell_type": "markdown",
   "metadata": {},
   "source": [
    "Note here that a video is represented above in the generator as (number of images, height, width, number of channels). Take this into consideration while creating the model architecture."
   ]
  },
  {
   "cell_type": "code",
   "execution_count": 5,
   "metadata": {},
   "outputs": [
    {
     "name": "stdout",
     "output_type": "stream",
     "text": [
      "# training sequences = 663\n",
      "# validation sequences = 100\n",
      "# epochs = 10\n"
     ]
    }
   ],
   "source": [
    "curr_dt_time = datetime.datetime.now()\n",
    "train_path = '/home/datasets/Project_data/train'\n",
    "val_path = '/home/datasets/Project_data/val'\n",
    "num_train_sequences = len(train_doc)\n",
    "print('# training sequences =', num_train_sequences)\n",
    "num_val_sequences = len(val_doc)\n",
    "print('# validation sequences =', num_val_sequences)\n",
    "num_epochs = 10 # choose the number of epochs\n",
    "print ('# epochs =', num_epochs)"
   ]
  },
  {
   "cell_type": "code",
   "execution_count": 6,
   "metadata": {},
   "outputs": [],
   "source": [
    "import matplotlib.pyplot as plt\n",
    "def plot_loss_accuracy(history):\n",
    "    # list all data in history\n",
    "    print(history.history.keys())\n",
    "    # summarize history for accuracy\n",
    "    plt.plot(history.history['categorical_accuracy'])\n",
    "    plt.plot(history.history['val_categorical_accuracy'])\n",
    "    plt.title('model accuracy')\n",
    "    plt.ylabel('accuracy')\n",
    "    plt.xlabel('epoch')\n",
    "    plt.legend(['train', 'test'], loc='upper left')\n",
    "    plt.show()\n",
    "    # summarize history for loss\n",
    "    plt.plot(history.history['loss'])\n",
    "    plt.plot(history.history['val_loss'])\n",
    "    plt.title('model loss')\n",
    "    plt.ylabel('loss')\n",
    "    plt.xlabel('epoch')\n",
    "    plt.legend(['train', 'test'], loc='upper left')\n",
    "    plt.show()"
   ]
  },
  {
   "cell_type": "code",
   "execution_count": 20,
   "metadata": {},
   "outputs": [],
   "source": [
    "def train_model(model, folder, save_name, epochs, ablation=False):\n",
    "    \n",
    "    # Compile Model\n",
    "    sgd = tf.keras.optimizers.SGD(learning_rate=0.01, decay=1e-2, momentum=0.7, nesterov=True)\n",
    "    #adam = tf.keras.optimizers.Adam()\n",
    "    model.compile(optimizer=sgd, loss='categorical_crossentropy', metrics=['categorical_accuracy'])\n",
    "    print (model.summary())\n",
    "\n",
    "    # Set Folders and Filenames\n",
    "\n",
    "    model_name = 'model_output/'+folder+'/'+ save_name + '_' + str(curr_dt_time).replace(' ','').replace(':','_') + '/'\n",
    "    \n",
    "    if not os.path.exists(model_name):\n",
    "        os.makedirs(model_name)\n",
    "            \n",
    "    filepath = model_name + 'model-{epoch:05d}-{loss:.5f}-{categorical_accuracy:.5f}-{val_loss:.5f}-{val_categorical_accuracy:.5f}.h5'\n",
    "\n",
    "    # Set Check Points\n",
    "    checkpoint = ModelCheckpoint(filepath, monitor='val_loss', verbose=1, save_best_only=False, save_weights_only=False, mode='auto', save_freq='epoch')\n",
    "\n",
    "    LR = ReduceLROnPlateau(monitor='val_loss', factor=0.25, patience=2, verbose=1, mode='min', min_delta=0.0001, cooldown=0, min_lr=0.00001)\n",
    "    callbacks_list = [checkpoint, LR]\n",
    "\n",
    "    #Set params\n",
    "\n",
    "    if (num_train_sequences%batch_size) == 0:\n",
    "        steps_per_epoch = int(num_train_sequences/batch_size)\n",
    "    else:\n",
    "        steps_per_epoch = (num_train_sequences//batch_size) + 1\n",
    "\n",
    "    if (num_val_sequences%batch_size) == 0:\n",
    "        validation_steps = int(num_val_sequences/batch_size)\n",
    "    else:\n",
    "        validation_steps = (num_val_sequences//batch_size) + 1\n",
    "\n",
    "    # Run Generator\n",
    "\n",
    "    train_generator = generator(train_path, train_doc, batch_size, ablation=ablation)\n",
    "    val_generator = generator(val_path, val_doc, batch_size, ablation=ablation)\n",
    "\n",
    "    # Run ablation for EPOCHS\n",
    "    history = model.fit(train_generator, steps_per_epoch=steps_per_epoch, epochs=epochs, verbose=1, \n",
    "                        callbacks=callbacks_list, validation_data=val_generator, \n",
    "                        validation_steps=validation_steps, class_weight=None, workers=1, initial_epoch=0)\n",
    "\n",
    "    plot_loss_accuracy(history)    "
   ]
  },
  {
   "cell_type": "markdown",
   "metadata": {},
   "source": [
    "## Model\n",
    "\n",
    "Here you make the model using different functionalities that Keras provides. You might want to use `TimeDistributed`, `GRU` and other RNN structures after doing transfer learning. Also remember that the last layer is the softmax. Remember that the network is designed in such a way that the model is able to fit in the memory of the webcam."
   ]
  },
  {
   "cell_type": "code",
   "execution_count": 53,
   "metadata": {},
   "outputs": [],
   "source": [
    "# from keras.models import Sequential, Model\n",
    "# from keras.layers import Dense, GRU, Dropout, Flatten, TimeDistributed\n",
    "# from keras.callbacks import ModelCheckpoint, ReduceLROnPlateau\n",
    "# from keras import optimizers\n",
    "# from tensorflow.keras.applications.resnet50 import ResNet50\n",
    "    \n",
    "# base_model = ResNet50(include_top=False, weights='imagenet', input_shape=(120,120,3))\n",
    "# x = base_model.output\n",
    "# x = Flatten()(x)\n",
    "# #x.add(Dropout(0.5))\n",
    "# features = Dense(64, activation='relu')(x)\n",
    "# conv_model = Model(inputs=base_model.input, outputs=features)\n",
    "    \n",
    "# for layer in base_model.layers:\n",
    "#     layer.trainable = False\n",
    "        \n",
    "# model = Sequential()\n",
    "# model.add(TimeDistributed(conv_model, input_shape=(18,120,120,3)))\n",
    "# model.add(GRU(32, return_sequences=True))\n",
    "# model.add(GRU(16))\n",
    "# model.add(Dropout(0.5))\n",
    "# model.add(Dense(8, activation='relu'))\n",
    "# #model.add(Dropout(0.5))\n",
    "# #model.add((Flatten()))\n",
    "# model.add(Dense(5, activation='softmax'))"
   ]
  },
  {
   "cell_type": "markdown",
   "metadata": {},
   "source": [
    "## Model Convo 3D\n",
    "Here you make the model using different functionalities that Keras provides. Remember to use `Conv3D` and `MaxPooling3D` and not `Conv2D` and `Maxpooling2D` for a 3D convolution model. You would want to use `TimeDistributed` while building a Conv2D + RNN model. Also remember that the last layer is the softmax. Design the network in such a way that the model is able to give good accuracy on the least number of parameters so that it can fit in the memory of the webcam."
   ]
  },
  {
   "cell_type": "code",
   "execution_count": 8,
   "metadata": {},
   "outputs": [
    {
     "name": "stderr",
     "output_type": "stream",
     "text": [
      "2023-10-06 10:10:08.340338: W tensorflow/core/common_runtime/gpu/gpu_bfc_allocator.cc:39] Overriding allow_growth setting because the TF_FORCE_GPU_ALLOW_GROWTH environment variable is set. Original config value was 0.\n",
      "2023-10-06 10:10:08.340420: I tensorflow/core/common_runtime/gpu/gpu_device.cc:1525] Created device /job:localhost/replica:0/task:0/device:GPU:0 with 22851 MB memory:  -> device: 0, name: Quadro RTX 6000, pci bus id: 0000:1e:00.0, compute capability: 7.5\n"
     ]
    }
   ],
   "source": [
    "from keras.models import Sequential, Model\n",
    "from keras.layers import Dense, GRU, Flatten, TimeDistributed, GlobalAveragePooling2D, GlobalAveragePooling3D, ZeroPadding3D, BatchNormalization, Activation, Dropout, ConvLSTM2D\n",
    "from keras.layers.convolutional import Conv3D, MaxPooling3D\n",
    "from keras.callbacks import ModelCheckpoint, ReduceLROnPlateau\n",
    "from keras import optimizers\n",
    "input_shape = (18, 120, 120, 3)\n",
    "\n",
    "model = Sequential()\n",
    "\n",
    "model.add(Conv3D(128, (3,3,3), padding='same', activation='relu', input_shape=input_shape))\n",
    "model.add(BatchNormalization())\n",
    "model.add(MaxPooling3D(pool_size=(2,2,2)))\n",
    "\n",
    "model.add(Conv3D(64, (3, 3,3), padding='same', activation='relu'))\n",
    "model.add(BatchNormalization())\n",
    "model.add(MaxPooling3D(pool_size=(2,2,2)))\n",
    "\n",
    "model.add(Conv3D(32, (3, 3,3), padding='same', activation='relu'))\n",
    "model.add(BatchNormalization())\n",
    "model.add(MaxPooling3D(pool_size=(2,2,2)))\n",
    "\n",
    "model.add(Dropout(0.2))\n",
    "\n",
    "model.add(Flatten())\n",
    "\n",
    "model.add(Dense(128, activation='relu'))\n",
    "model.add(Dense(5))\n",
    "model.add(Activation('softmax'))"
   ]
  },
  {
   "cell_type": "markdown",
   "metadata": {},
   "source": [
    "### Running Abalations and trying to overfit the Convo3D model. "
   ]
  },
  {
   "cell_type": "code",
   "execution_count": 9,
   "metadata": {},
   "outputs": [
    {
     "name": "stdout",
     "output_type": "stream",
     "text": [
      "Model: \"sequential\"\n",
      "_________________________________________________________________\n",
      " Layer (type)                Output Shape              Param #   \n",
      "=================================================================\n",
      " conv3d (Conv3D)             (None, 18, 120, 120, 128  10496     \n",
      "                             )                                   \n",
      "                                                                 \n",
      " batch_normalization (BatchN  (None, 18, 120, 120, 128  512      \n",
      " ormalization)               )                                   \n",
      "                                                                 \n",
      " max_pooling3d (MaxPooling3D  (None, 9, 60, 60, 128)   0         \n",
      " )                                                               \n",
      "                                                                 \n",
      " conv3d_1 (Conv3D)           (None, 9, 60, 60, 64)     221248    \n",
      "                                                                 \n",
      " batch_normalization_1 (Batc  (None, 9, 60, 60, 64)    256       \n",
      " hNormalization)                                                 \n",
      "                                                                 \n",
      " max_pooling3d_1 (MaxPooling  (None, 4, 30, 30, 64)    0         \n",
      " 3D)                                                             \n",
      "                                                                 \n",
      " conv3d_2 (Conv3D)           (None, 4, 30, 30, 32)     55328     \n",
      "                                                                 \n",
      " batch_normalization_2 (Batc  (None, 4, 30, 30, 32)    128       \n",
      " hNormalization)                                                 \n",
      "                                                                 \n",
      " max_pooling3d_2 (MaxPooling  (None, 2, 15, 15, 32)    0         \n",
      " 3D)                                                             \n",
      "                                                                 \n",
      " dropout (Dropout)           (None, 2, 15, 15, 32)     0         \n",
      "                                                                 \n",
      " flatten (Flatten)           (None, 14400)             0         \n",
      "                                                                 \n",
      " dense (Dense)               (None, 128)               1843328   \n",
      "                                                                 \n",
      " dense_1 (Dense)             (None, 5)                 645       \n",
      "                                                                 \n",
      " activation (Activation)     (None, 5)                 0         \n",
      "                                                                 \n",
      "=================================================================\n",
      "Total params: 2,131,941\n",
      "Trainable params: 2,131,493\n",
      "Non-trainable params: 448\n",
      "_________________________________________________________________\n",
      "None\n",
      "Source path =  /home/datasets/Project_data/train ; batch size = 100\n",
      "Epoch 1/10\n"
     ]
    },
    {
     "name": "stderr",
     "output_type": "stream",
     "text": [
      "2023-10-06 10:10:17.999566: I tensorflow/stream_executor/cuda/cuda_dnn.cc:377] Loaded cuDNN version 8302\n"
     ]
    },
    {
     "name": "stdout",
     "output_type": "stream",
     "text": [
      "7/7 [==============================] - ETA: 0s - loss: 12.8330 - categorical_accuracy: 0.2143Source path =  /home/datasets/Project_data/val ; batch size = 100\n",
      "\n",
      "Epoch 00001: saving model to model_output/Convo3D/convo3D_2023-10-0610_09_53.179992/model-00001-12.83300-0.21429-213.65068-0.40000.h5\n",
      "7/7 [==============================] - 13s 1s/step - loss: 12.8330 - categorical_accuracy: 0.2143 - val_loss: 213.6507 - val_categorical_accuracy: 0.4000 - lr: 0.0100\n",
      "Epoch 2/10\n",
      "7/7 [==============================] - ETA: 0s - loss: 2.1518 - categorical_accuracy: 0.3286\n",
      "Epoch 00002: saving model to model_output/Convo3D/convo3D_2023-10-0610_09_53.179992/model-00002-2.15179-0.32857-59.49271-0.30000.h5\n",
      "7/7 [==============================] - 9s 1s/step - loss: 2.1518 - categorical_accuracy: 0.3286 - val_loss: 59.4927 - val_categorical_accuracy: 0.3000 - lr: 0.0100\n",
      "Epoch 3/10\n",
      "7/7 [==============================] - ETA: 0s - loss: 1.8807 - categorical_accuracy: 0.3571\n",
      "Epoch 00003: saving model to model_output/Convo3D/convo3D_2023-10-0610_09_53.179992/model-00003-1.88068-0.35714-37.08038-0.10000.h5\n",
      "7/7 [==============================] - 10s 2s/step - loss: 1.8807 - categorical_accuracy: 0.3571 - val_loss: 37.0804 - val_categorical_accuracy: 0.1000 - lr: 0.0100\n",
      "Epoch 4/10\n",
      "7/7 [==============================] - ETA: 0s - loss: 1.5048 - categorical_accuracy: 0.3429\n",
      "Epoch 00004: saving model to model_output/Convo3D/convo3D_2023-10-0610_09_53.179992/model-00004-1.50484-0.34286-4.28342-0.50000.h5\n",
      "7/7 [==============================] - 10s 2s/step - loss: 1.5048 - categorical_accuracy: 0.3429 - val_loss: 4.2834 - val_categorical_accuracy: 0.5000 - lr: 0.0100\n",
      "Epoch 5/10\n",
      "7/7 [==============================] - ETA: 0s - loss: 1.5652 - categorical_accuracy: 0.3286\n",
      "Epoch 00005: saving model to model_output/Convo3D/convo3D_2023-10-0610_09_53.179992/model-00005-1.56521-0.32857-5.42744-0.20000.h5\n",
      "7/7 [==============================] - 11s 2s/step - loss: 1.5652 - categorical_accuracy: 0.3286 - val_loss: 5.4274 - val_categorical_accuracy: 0.2000 - lr: 0.0100\n",
      "Epoch 6/10\n",
      "7/7 [==============================] - ETA: 0s - loss: 1.0816 - categorical_accuracy: 0.5714\n",
      "Epoch 00006: saving model to model_output/Convo3D/convo3D_2023-10-0610_09_53.179992/model-00006-1.08160-0.57143-9.20456-0.30000.h5\n",
      "\n",
      "Epoch 00006: ReduceLROnPlateau reducing learning rate to 0.0024999999441206455.\n",
      "7/7 [==============================] - 12s 2s/step - loss: 1.0816 - categorical_accuracy: 0.5714 - val_loss: 9.2046 - val_categorical_accuracy: 0.3000 - lr: 0.0100\n",
      "Epoch 7/10\n",
      "7/7 [==============================] - ETA: 0s - loss: 1.3078 - categorical_accuracy: 0.5143\n",
      "Epoch 00007: saving model to model_output/Convo3D/convo3D_2023-10-0610_09_53.179992/model-00007-1.30780-0.51429-9.33800-0.30000.h5\n",
      "7/7 [==============================] - 10s 2s/step - loss: 1.3078 - categorical_accuracy: 0.5143 - val_loss: 9.3380 - val_categorical_accuracy: 0.3000 - lr: 0.0025\n",
      "Epoch 8/10\n",
      "7/7 [==============================] - ETA: 0s - loss: 1.1394 - categorical_accuracy: 0.6000\n",
      "Epoch 00008: saving model to model_output/Convo3D/convo3D_2023-10-0610_09_53.179992/model-00008-1.13940-0.60000-7.65368-0.30000.h5\n",
      "\n",
      "Epoch 00008: ReduceLROnPlateau reducing learning rate to 0.0006249999860301614.\n",
      "7/7 [==============================] - 10s 2s/step - loss: 1.1394 - categorical_accuracy: 0.6000 - val_loss: 7.6537 - val_categorical_accuracy: 0.3000 - lr: 0.0025\n",
      "Epoch 9/10\n",
      "7/7 [==============================] - ETA: 0s - loss: 1.1310 - categorical_accuracy: 0.5429\n",
      "Epoch 00009: saving model to model_output/Convo3D/convo3D_2023-10-0610_09_53.179992/model-00009-1.13100-0.54286-11.06922-0.20000.h5\n",
      "7/7 [==============================] - 9s 1s/step - loss: 1.1310 - categorical_accuracy: 0.5429 - val_loss: 11.0692 - val_categorical_accuracy: 0.2000 - lr: 6.2500e-04\n",
      "Epoch 10/10\n",
      "7/7 [==============================] - ETA: 0s - loss: 1.0395 - categorical_accuracy: 0.6286\n",
      "Epoch 00010: saving model to model_output/Convo3D/convo3D_2023-10-0610_09_53.179992/model-00010-1.03953-0.62857-3.31101-0.20000.h5\n",
      "7/7 [==============================] - 10s 2s/step - loss: 1.0395 - categorical_accuracy: 0.6286 - val_loss: 3.3110 - val_categorical_accuracy: 0.2000 - lr: 6.2500e-04\n",
      "dict_keys(['loss', 'categorical_accuracy', 'val_loss', 'val_categorical_accuracy', 'lr'])\n"
     ]
    },
    {
     "data": {
      "image/png": "[encoded data removed]",
      "text/plain": [
       "<Figure size 432x288 with 1 Axes>"
      ]
     },
     "metadata": {
      "needs_background": "light"
     },
     "output_type": "display_data"
    },
    {
     "data": {
      "image/png": "[encoded data removed]",
      "text/plain": [
       "<Figure size 432x288 with 1 Axes>"
      ]
     },
     "metadata": {
      "needs_background": "light"
     },
     "output_type": "display_data"
    }
   ],
   "source": [
    "train_model(model, 'Convo3D', 'convo3D', 10, True )"
   ]
  },
  {
   "cell_type": "markdown",
   "metadata": {},
   "source": [
    "#### The Model is able to overfir with a small sample of 10 folders and 10 EPOCHS\n",
    "#### Lets Modify the Model and try and decrease the params. "
   ]
  },
  {
   "cell_type": "code",
   "execution_count": 10,
   "metadata": {},
   "outputs": [],
   "source": [
    "input_shape = (18, 120, 120, 3)\n",
    "\n",
    "model = Sequential()\n",
    "\n",
    "model.add(Conv3D(64, (3,3,3), padding='same', activation='relu', input_shape=input_shape))\n",
    "model.add(BatchNormalization())\n",
    "model.add(MaxPooling3D(pool_size=(2,2,2)))\n",
    "\n",
    "model.add(Conv3D(32, (3, 3,3), padding='same', activation='relu'))\n",
    "model.add(BatchNormalization())\n",
    "model.add(MaxPooling3D(pool_size=(2,2,2)))\n",
    "\n",
    "model.add(Conv3D(16, (3, 3,3), padding='same', activation='relu'))\n",
    "model.add(BatchNormalization())\n",
    "model.add(MaxPooling3D(pool_size=(2,2,2)))\n",
    "\n",
    "model.add(Dropout(0.2))\n",
    "\n",
    "model.add(Flatten())\n",
    "\n",
    "model.add(Dense(128, activation='relu'))\n",
    "model.add(Dense(5))\n",
    "model.add(Activation('softmax'))"
   ]
  },
  {
   "cell_type": "code",
   "execution_count": 11,
   "metadata": {},
   "outputs": [
    {
     "name": "stdout",
     "output_type": "stream",
     "text": [
      "Model: \"sequential_1\"\n",
      "_________________________________________________________________\n",
      " Layer (type)                Output Shape              Param #   \n",
      "=================================================================\n",
      " conv3d_3 (Conv3D)           (None, 18, 120, 120, 64)  5248      \n",
      "                                                                 \n",
      " batch_normalization_3 (Batc  (None, 18, 120, 120, 64)  256      \n",
      " hNormalization)                                                 \n",
      "                                                                 \n",
      " max_pooling3d_3 (MaxPooling  (None, 9, 60, 60, 64)    0         \n",
      " 3D)                                                             \n",
      "                                                                 \n",
      " conv3d_4 (Conv3D)           (None, 9, 60, 60, 32)     55328     \n",
      "                                                                 \n",
      " batch_normalization_4 (Batc  (None, 9, 60, 60, 32)    128       \n",
      " hNormalization)                                                 \n",
      "                                                                 \n",
      " max_pooling3d_4 (MaxPooling  (None, 4, 30, 30, 32)    0         \n",
      " 3D)                                                             \n",
      "                                                                 \n",
      " conv3d_5 (Conv3D)           (None, 4, 30, 30, 16)     13840     \n",
      "                                                                 \n",
      " batch_normalization_5 (Batc  (None, 4, 30, 30, 16)    64        \n",
      " hNormalization)                                                 \n",
      "                                                                 \n",
      " max_pooling3d_5 (MaxPooling  (None, 2, 15, 15, 16)    0         \n",
      " 3D)                                                             \n",
      "                                                                 \n",
      " dropout_1 (Dropout)         (None, 2, 15, 15, 16)     0         \n",
      "                                                                 \n",
      " flatten_1 (Flatten)         (None, 7200)              0         \n",
      "                                                                 \n",
      " dense_2 (Dense)             (None, 128)               921728    \n",
      "                                                                 \n",
      " dense_3 (Dense)             (None, 5)                 645       \n",
      "                                                                 \n",
      " activation_1 (Activation)   (None, 5)                 0         \n",
      "                                                                 \n",
      "=================================================================\n",
      "Total params: 997,237\n",
      "Trainable params: 997,013\n",
      "Non-trainable params: 224\n",
      "_________________________________________________________________\n",
      "None\n",
      "Source path =  /home/datasets/Project_data/train ; batch size = 100\n",
      "Epoch 1/10\n",
      "7/7 [==============================] - ETA: 0s - loss: 5.7481 - categorical_accuracy: 0.2857Source path =  /home/datasets/Project_data/val ; batch size = 100\n",
      "\n",
      "Epoch 00001: saving model to model_output/Convo3D/convo3D_2023-10-0610_09_53.179992/model-00001-5.74813-0.28571-365.83173-0.20000.h5\n",
      "7/7 [==============================] - 12s 2s/step - loss: 5.7481 - categorical_accuracy: 0.2857 - val_loss: 365.8317 - val_categorical_accuracy: 0.2000 - lr: 0.0100\n",
      "Epoch 2/10\n",
      "7/7 [==============================] - ETA: 0s - loss: 1.9717 - categorical_accuracy: 0.3857\n",
      "Epoch 00002: saving model to model_output/Convo3D/convo3D_2023-10-0610_09_53.179992/model-00002-1.97170-0.38571-69.52433-0.30000.h5\n",
      "7/7 [==============================] - 10s 2s/step - loss: 1.9717 - categorical_accuracy: 0.3857 - val_loss: 69.5243 - val_categorical_accuracy: 0.3000 - lr: 0.0100\n",
      "Epoch 3/10\n",
      "7/7 [==============================] - ETA: 0s - loss: 1.2795 - categorical_accuracy: 0.4857\n",
      "Epoch 00003: saving model to model_output/Convo3D/convo3D_2023-10-0610_09_53.179992/model-00003-1.27945-0.48571-30.42446-0.40000.h5\n",
      "7/7 [==============================] - 9s 2s/step - loss: 1.2795 - categorical_accuracy: 0.4857 - val_loss: 30.4245 - val_categorical_accuracy: 0.4000 - lr: 0.0100\n",
      "Epoch 4/10\n",
      "7/7 [==============================] - ETA: 0s - loss: 1.7084 - categorical_accuracy: 0.4571\n",
      "Epoch 00004: saving model to model_output/Convo3D/convo3D_2023-10-0610_09_53.179992/model-00004-1.70836-0.45714-21.04904-0.10000.h5\n",
      "7/7 [==============================] - 9s 2s/step - loss: 1.7084 - categorical_accuracy: 0.4571 - val_loss: 21.0490 - val_categorical_accuracy: 0.1000 - lr: 0.0100\n",
      "Epoch 5/10\n",
      "7/7 [==============================] - ETA: 0s - loss: 1.2797 - categorical_accuracy: 0.4143\n",
      "Epoch 00005: saving model to model_output/Convo3D/convo3D_2023-10-0610_09_53.179992/model-00005-1.27973-0.41429-22.62590-0.20000.h5\n",
      "7/7 [==============================] - 9s 2s/step - loss: 1.2797 - categorical_accuracy: 0.4143 - val_loss: 22.6259 - val_categorical_accuracy: 0.2000 - lr: 0.0100\n",
      "Epoch 6/10\n",
      "7/7 [==============================] - ETA: 0s - loss: 1.1235 - categorical_accuracy: 0.5000\n",
      "Epoch 00006: saving model to model_output/Convo3D/convo3D_2023-10-0610_09_53.179992/model-00006-1.12355-0.50000-10.06184-0.30000.h5\n",
      "7/7 [==============================] - 10s 2s/step - loss: 1.1235 - categorical_accuracy: 0.5000 - val_loss: 10.0618 - val_categorical_accuracy: 0.3000 - lr: 0.0100\n",
      "Epoch 7/10\n",
      "7/7 [==============================] - ETA: 0s - loss: 1.8008 - categorical_accuracy: 0.5857\n",
      "Epoch 00007: saving model to model_output/Convo3D/convo3D_2023-10-0610_09_53.179992/model-00007-1.80076-0.58571-9.14521-0.10000.h5\n",
      "7/7 [==============================] - 10s 2s/step - loss: 1.8008 - categorical_accuracy: 0.5857 - val_loss: 9.1452 - val_categorical_accuracy: 0.1000 - lr: 0.0100\n",
      "Epoch 8/10\n",
      "7/7 [==============================] - ETA: 0s - loss: 1.2452 - categorical_accuracy: 0.5286\n",
      "Epoch 00008: saving model to model_output/Convo3D/convo3D_2023-10-0610_09_53.179992/model-00008-1.24523-0.52857-4.77631-0.20000.h5\n",
      "7/7 [==============================] - 10s 2s/step - loss: 1.2452 - categorical_accuracy: 0.5286 - val_loss: 4.7763 - val_categorical_accuracy: 0.2000 - lr: 0.0100\n",
      "Epoch 9/10\n",
      "7/7 [==============================] - ETA: 0s - loss: 1.2043 - categorical_accuracy: 0.4286\n",
      "Epoch 00009: saving model to model_output/Convo3D/convo3D_2023-10-0610_09_53.179992/model-00009-1.20426-0.42857-3.21827-0.50000.h5\n",
      "7/7 [==============================] - 9s 1s/step - loss: 1.2043 - categorical_accuracy: 0.4286 - val_loss: 3.2183 - val_categorical_accuracy: 0.5000 - lr: 0.0100\n",
      "Epoch 10/10\n",
      "7/7 [==============================] - ETA: 0s - loss: 1.0789 - categorical_accuracy: 0.5571\n",
      "Epoch 00010: saving model to model_output/Convo3D/convo3D_2023-10-0610_09_53.179992/model-00010-1.07886-0.55714-5.49334-0.20000.h5\n",
      "7/7 [==============================] - 10s 2s/step - loss: 1.0789 - categorical_accuracy: 0.5571 - val_loss: 5.4933 - val_categorical_accuracy: 0.2000 - lr: 0.0100\n",
      "dict_keys(['loss', 'categorical_accuracy', 'val_loss', 'val_categorical_accuracy', 'lr'])\n"
     ]
    },
    {
     "data": {
      "image/png": "[encoded data removed]",
      "text/plain": [
       "<Figure size 432x288 with 1 Axes>"
      ]
     },
     "metadata": {
      "needs_background": "light"
     },
     "output_type": "display_data"
    },
    {
     "data": {
      "image/png": "[encoded data removed]",
      "text/plain": [
       "<Figure size 432x288 with 1 Axes>"
      ]
     },
     "metadata": {
      "needs_background": "light"
     },
     "output_type": "display_data"
    }
   ],
   "source": [
    "train_model(model, 'Convo3D', 'convo3D', 10, True )"
   ]
  },
  {
   "cell_type": "code",
   "execution_count": 12,
   "metadata": {},
   "outputs": [],
   "source": [
    "### Model is still overfitting\n",
    "## Modifing Params again. \n",
    "\n",
    "input_shape = (18, 120, 120, 3)\n",
    "\n",
    "model = Sequential()\n",
    "\n",
    "model.add(Conv3D(32, (3,3,3), padding='same', activation='relu', input_shape=input_shape))\n",
    "model.add(BatchNormalization())\n",
    "model.add(MaxPooling3D(pool_size=(2,2,2)))\n",
    "\n",
    "model.add(Conv3D(16, (3, 3,3), padding='same', activation='relu'))\n",
    "model.add(BatchNormalization())\n",
    "model.add(MaxPooling3D(pool_size=(2,2,2)))\n",
    "\n",
    "# model.add(Conv3D(16, (3, 3,3), padding='same', activation='relu'))\n",
    "# model.add(BatchNormalization())\n",
    "# model.add(MaxPooling3D(pool_size=(2,2,2)))\n",
    "\n",
    "model.add(Dropout(0.2))\n",
    "\n",
    "model.add(Flatten())\n",
    "\n",
    "model.add(Dense(128, activation='relu'))\n",
    "model.add(Dense(5))\n",
    "model.add(Activation('softmax'))"
   ]
  },
  {
   "cell_type": "code",
   "execution_count": 13,
   "metadata": {},
   "outputs": [
    {
     "name": "stdout",
     "output_type": "stream",
     "text": [
      "Model: \"sequential_2\"\n",
      "_________________________________________________________________\n",
      " Layer (type)                Output Shape              Param #   \n",
      "=================================================================\n",
      " conv3d_6 (Conv3D)           (None, 18, 120, 120, 32)  2624      \n",
      "                                                                 \n",
      " batch_normalization_6 (Batc  (None, 18, 120, 120, 32)  128      \n",
      " hNormalization)                                                 \n",
      "                                                                 \n",
      " max_pooling3d_6 (MaxPooling  (None, 9, 60, 60, 32)    0         \n",
      " 3D)                                                             \n",
      "                                                                 \n",
      " conv3d_7 (Conv3D)           (None, 9, 60, 60, 16)     13840     \n",
      "                                                                 \n",
      " batch_normalization_7 (Batc  (None, 9, 60, 60, 16)    64        \n",
      " hNormalization)                                                 \n",
      "                                                                 \n",
      " max_pooling3d_7 (MaxPooling  (None, 4, 30, 30, 16)    0         \n",
      " 3D)                                                             \n",
      "                                                                 \n",
      " dropout_2 (Dropout)         (None, 4, 30, 30, 16)     0         \n",
      "                                                                 \n",
      " flatten_2 (Flatten)         (None, 57600)             0         \n",
      "                                                                 \n",
      " dense_4 (Dense)             (None, 128)               7372928   \n",
      "                                                                 \n",
      " dense_5 (Dense)             (None, 5)                 645       \n",
      "                                                                 \n",
      " activation_2 (Activation)   (None, 5)                 0         \n",
      "                                                                 \n",
      "=================================================================\n",
      "Total params: 7,390,229\n",
      "Trainable params: 7,390,133\n",
      "Non-trainable params: 96\n",
      "_________________________________________________________________\n",
      "None\n",
      "Source path =  /home/datasets/Project_data/train ; batch size = 100\n",
      "Epoch 1/10\n",
      "7/7 [==============================] - ETA: 0s - loss: 25.6539 - categorical_accuracy: 0.2000Source path =  /home/datasets/Project_data/val ; batch size = 100\n",
      "\n",
      "Epoch 00001: saving model to model_output/Convo3D/convo3D-model3_2023-10-0610_09_53.179992/model-00001-25.65391-0.20000-373.55948-0.40000.h5\n",
      "7/7 [==============================] - 10s 1s/step - loss: 25.6539 - categorical_accuracy: 0.2000 - val_loss: 373.5595 - val_categorical_accuracy: 0.4000 - lr: 0.0100\n",
      "Epoch 2/10\n",
      "7/7 [==============================] - ETA: 0s - loss: 5.4632 - categorical_accuracy: 0.3000\n",
      "Epoch 00002: saving model to model_output/Convo3D/convo3D-model3_2023-10-0610_09_53.179992/model-00002-5.46316-0.30000-41.49980-0.10000.h5\n",
      "7/7 [==============================] - 10s 2s/step - loss: 5.4632 - categorical_accuracy: 0.3000 - val_loss: 41.4998 - val_categorical_accuracy: 0.1000 - lr: 0.0100\n",
      "Epoch 3/10\n",
      "7/7 [==============================] - ETA: 0s - loss: 2.4362 - categorical_accuracy: 0.2857\n",
      "Epoch 00003: saving model to model_output/Convo3D/convo3D-model3_2023-10-0610_09_53.179992/model-00003-2.43619-0.28571-10.46980-0.20000.h5\n",
      "7/7 [==============================] - 11s 2s/step - loss: 2.4362 - categorical_accuracy: 0.2857 - val_loss: 10.4698 - val_categorical_accuracy: 0.2000 - lr: 0.0100\n",
      "Epoch 4/10\n",
      "7/7 [==============================] - ETA: 0s - loss: 1.9300 - categorical_accuracy: 0.3286\n",
      "Epoch 00004: saving model to model_output/Convo3D/convo3D-model3_2023-10-0610_09_53.179992/model-00004-1.93003-0.32857-18.75659-0.50000.h5\n",
      "7/7 [==============================] - 10s 2s/step - loss: 1.9300 - categorical_accuracy: 0.3286 - val_loss: 18.7566 - val_categorical_accuracy: 0.5000 - lr: 0.0100\n",
      "Epoch 5/10\n",
      "7/7 [==============================] - ETA: 0s - loss: 1.3820 - categorical_accuracy: 0.4714\n",
      "Epoch 00005: saving model to model_output/Convo3D/convo3D-model3_2023-10-0610_09_53.179992/model-00005-1.38203-0.47143-1.66057-0.30000.h5\n",
      "7/7 [==============================] - 10s 2s/step - loss: 1.3820 - categorical_accuracy: 0.4714 - val_loss: 1.6606 - val_categorical_accuracy: 0.3000 - lr: 0.0100\n",
      "Epoch 6/10\n",
      "7/7 [==============================] - ETA: 0s - loss: 1.9131 - categorical_accuracy: 0.3000\n",
      "Epoch 00006: saving model to model_output/Convo3D/convo3D-model3_2023-10-0610_09_53.179992/model-00006-1.91313-0.30000-5.27538-0.60000.h5\n",
      "7/7 [==============================] - 9s 2s/step - loss: 1.9131 - categorical_accuracy: 0.3000 - val_loss: 5.2754 - val_categorical_accuracy: 0.6000 - lr: 0.0100\n",
      "Epoch 7/10\n",
      "7/7 [==============================] - ETA: 0s - loss: 1.5167 - categorical_accuracy: 0.3429\n",
      "Epoch 00007: saving model to model_output/Convo3D/convo3D-model3_2023-10-0610_09_53.179992/model-00007-1.51674-0.34286-2.48263-0.40000.h5\n",
      "\n",
      "Epoch 00007: ReduceLROnPlateau reducing learning rate to 0.0024999999441206455.\n",
      "7/7 [==============================] - 9s 2s/step - loss: 1.5167 - categorical_accuracy: 0.3429 - val_loss: 2.4826 - val_categorical_accuracy: 0.4000 - lr: 0.0100\n",
      "Epoch 8/10\n",
      "7/7 [==============================] - ETA: 0s - loss: 1.3691 - categorical_accuracy: 0.3714\n",
      "Epoch 00008: saving model to model_output/Convo3D/convo3D-model3_2023-10-0610_09_53.179992/model-00008-1.36907-0.37143-1.96732-0.20000.h5\n",
      "7/7 [==============================] - 9s 2s/step - loss: 1.3691 - categorical_accuracy: 0.3714 - val_loss: 1.9673 - val_categorical_accuracy: 0.2000 - lr: 0.0025\n",
      "Epoch 9/10\n",
      "7/7 [==============================] - ETA: 0s - loss: 1.3858 - categorical_accuracy: 0.4143\n",
      "Epoch 00009: saving model to model_output/Convo3D/convo3D-model3_2023-10-0610_09_53.179992/model-00009-1.38575-0.41429-3.30645-0.10000.h5\n",
      "\n",
      "Epoch 00009: ReduceLROnPlateau reducing learning rate to 0.0006249999860301614.\n",
      "7/7 [==============================] - 10s 2s/step - loss: 1.3858 - categorical_accuracy: 0.4143 - val_loss: 3.3064 - val_categorical_accuracy: 0.1000 - lr: 0.0025\n",
      "Epoch 10/10\n",
      "7/7 [==============================] - ETA: 0s - loss: 1.2887 - categorical_accuracy: 0.4857\n",
      "Epoch 00010: saving model to model_output/Convo3D/convo3D-model3_2023-10-0610_09_53.179992/model-00010-1.28872-0.48571-3.31799-0.20000.h5\n",
      "7/7 [==============================] - 10s 2s/step - loss: 1.2887 - categorical_accuracy: 0.4857 - val_loss: 3.3180 - val_categorical_accuracy: 0.2000 - lr: 6.2500e-04\n",
      "dict_keys(['loss', 'categorical_accuracy', 'val_loss', 'val_categorical_accuracy', 'lr'])\n"
     ]
    },
    {
     "data": {
      "image/png": "[encoded data removed]",
      "text/plain": [
       "<Figure size 432x288 with 1 Axes>"
      ]
     },
     "metadata": {
      "needs_background": "light"
     },
     "output_type": "display_data"
    },
    {
     "data": {
      "image/png": "[encoded data removed]",
      "text/plain": [
       "<Figure size 432x288 with 1 Axes>"
      ]
     },
     "metadata": {
      "needs_background": "light"
     },
     "output_type": "display_data"
    }
   ],
   "source": [
    "train_model(model, 'Convo3D', 'convo3D-model3', 10, True )"
   ]
  },
  {
   "cell_type": "code",
   "execution_count": 14,
   "metadata": {},
   "outputs": [
    {
     "name": "stdout",
     "output_type": "stream",
     "text": [
      "Model: \"sequential_2\"\n",
      "_________________________________________________________________\n",
      " Layer (type)                Output Shape              Param #   \n",
      "=================================================================\n",
      " conv3d_6 (Conv3D)           (None, 18, 120, 120, 32)  2624      \n",
      "                                                                 \n",
      " batch_normalization_6 (Batc  (None, 18, 120, 120, 32)  128      \n",
      " hNormalization)                                                 \n",
      "                                                                 \n",
      " max_pooling3d_6 (MaxPooling  (None, 9, 60, 60, 32)    0         \n",
      " 3D)                                                             \n",
      "                                                                 \n",
      " conv3d_7 (Conv3D)           (None, 9, 60, 60, 16)     13840     \n",
      "                                                                 \n",
      " batch_normalization_7 (Batc  (None, 9, 60, 60, 16)    64        \n",
      " hNormalization)                                                 \n",
      "                                                                 \n",
      " max_pooling3d_7 (MaxPooling  (None, 4, 30, 30, 16)    0         \n",
      " 3D)                                                             \n",
      "                                                                 \n",
      " dropout_2 (Dropout)         (None, 4, 30, 30, 16)     0         \n",
      "                                                                 \n",
      " flatten_2 (Flatten)         (None, 57600)             0         \n",
      "                                                                 \n",
      " dense_4 (Dense)             (None, 128)               7372928   \n",
      "                                                                 \n",
      " dense_5 (Dense)             (None, 5)                 645       \n",
      "                                                                 \n",
      " activation_2 (Activation)   (None, 5)                 0         \n",
      "                                                                 \n",
      "=================================================================\n",
      "Total params: 7,390,229\n",
      "Trainable params: 7,390,133\n",
      "Non-trainable params: 96\n",
      "_________________________________________________________________\n",
      "None\n",
      "Source path =  /home/datasets/Project_data/train ; batch size = 100\n",
      "Epoch 1/10\n",
      "7/7 [==============================] - ETA: 0s - loss: 1.4157 - categorical_accuracy: 0.4133 Source path =  /home/datasets/Project_data/val ; batch size = 100\n",
      "\n",
      "Epoch 00001: saving model to model_output/Convo3D/convo3D-model3_2023-10-0610_09_53.179992/model-00001-1.41571-0.41327-3.23986-0.24000.h5\n",
      "7/7 [==============================] - 95s 15s/step - loss: 1.4157 - categorical_accuracy: 0.4133 - val_loss: 3.2399 - val_categorical_accuracy: 0.2400 - lr: 0.0100\n",
      "Epoch 2/10\n",
      "7/7 [==============================] - ETA: 0s - loss: 1.2543 - categorical_accuracy: 0.4947 \n",
      "Epoch 00002: saving model to model_output/Convo3D/convo3D-model3_2023-10-0610_09_53.179992/model-00002-1.25433-0.49472-3.36900-0.31000.h5\n",
      "7/7 [==============================] - 96s 16s/step - loss: 1.2543 - categorical_accuracy: 0.4947 - val_loss: 3.3690 - val_categorical_accuracy: 0.3100 - lr: 0.0100\n",
      "Epoch 3/10\n",
      "7/7 [==============================] - ETA: 0s - loss: 1.1343 - categorical_accuracy: 0.5385 \n",
      "Epoch 00003: saving model to model_output/Convo3D/convo3D-model3_2023-10-0610_09_53.179992/model-00003-1.13430-0.53846-3.02089-0.33000.h5\n",
      "7/7 [==============================] - 92s 15s/step - loss: 1.1343 - categorical_accuracy: 0.5385 - val_loss: 3.0209 - val_categorical_accuracy: 0.3300 - lr: 0.0100\n",
      "Epoch 4/10\n",
      "7/7 [==============================] - ETA: 0s - loss: 1.0224 - categorical_accuracy: 0.5913 \n",
      "Epoch 00004: saving model to model_output/Convo3D/convo3D-model3_2023-10-0610_09_53.179992/model-00004-1.02245-0.59125-3.06248-0.26000.h5\n",
      "7/7 [==============================] - 92s 15s/step - loss: 1.0224 - categorical_accuracy: 0.5913 - val_loss: 3.0625 - val_categorical_accuracy: 0.2600 - lr: 0.0100\n",
      "Epoch 5/10\n",
      "7/7 [==============================] - ETA: 0s - loss: 0.9264 - categorical_accuracy: 0.6184 \n",
      "Epoch 00005: saving model to model_output/Convo3D/convo3D-model3_2023-10-0610_09_53.179992/model-00005-0.92645-0.61840-2.66194-0.37000.h5\n",
      "7/7 [==============================] - 92s 15s/step - loss: 0.9264 - categorical_accuracy: 0.6184 - val_loss: 2.6619 - val_categorical_accuracy: 0.3700 - lr: 0.0100\n",
      "Epoch 6/10\n",
      "7/7 [==============================] - ETA: 0s - loss: 0.8387 - categorical_accuracy: 0.6682 \n",
      "Epoch 00006: saving model to model_output/Convo3D/convo3D-model3_2023-10-0610_09_53.179992/model-00006-0.83865-0.66817-2.73668-0.36000.h5\n",
      "7/7 [==============================] - 90s 15s/step - loss: 0.8387 - categorical_accuracy: 0.6682 - val_loss: 2.7367 - val_categorical_accuracy: 0.3600 - lr: 0.0100\n",
      "Epoch 7/10\n",
      "7/7 [==============================] - ETA: 0s - loss: 0.7669 - categorical_accuracy: 0.7210 \n",
      "Epoch 00007: saving model to model_output/Convo3D/convo3D-model3_2023-10-0610_09_53.179992/model-00007-0.76691-0.72097-2.50381-0.39000.h5\n",
      "7/7 [==============================] - 90s 15s/step - loss: 0.7669 - categorical_accuracy: 0.7210 - val_loss: 2.5038 - val_categorical_accuracy: 0.3900 - lr: 0.0100\n",
      "Epoch 8/10\n",
      "7/7 [==============================] - ETA: 0s - loss: 0.7111 - categorical_accuracy: 0.7345 \n",
      "Epoch 00008: saving model to model_output/Convo3D/convo3D-model3_2023-10-0610_09_53.179992/model-00008-0.71108-0.73454-2.21296-0.45000.h5\n",
      "7/7 [==============================] - 92s 15s/step - loss: 0.7111 - categorical_accuracy: 0.7345 - val_loss: 2.2130 - val_categorical_accuracy: 0.4500 - lr: 0.0100\n",
      "Epoch 9/10\n",
      "7/7 [==============================] - ETA: 0s - loss: 0.6409 - categorical_accuracy: 0.7617 \n",
      "Epoch 00009: saving model to model_output/Convo3D/convo3D-model3_2023-10-0610_09_53.179992/model-00009-0.64089-0.76169-2.41949-0.44000.h5\n",
      "7/7 [==============================] - 99s 16s/step - loss: 0.6409 - categorical_accuracy: 0.7617 - val_loss: 2.4195 - val_categorical_accuracy: 0.4400 - lr: 0.0100\n",
      "Epoch 10/10\n",
      "7/7 [==============================] - ETA: 0s - loss: 0.5925 - categorical_accuracy: 0.7888 \n",
      "Epoch 00010: saving model to model_output/Convo3D/convo3D-model3_2023-10-0610_09_53.179992/model-00010-0.59254-0.78884-2.30822-0.46000.h5\n",
      "\n",
      "Epoch 00010: ReduceLROnPlateau reducing learning rate to 0.0024999999441206455.\n",
      "7/7 [==============================] - 108s 18s/step - loss: 0.5925 - categorical_accuracy: 0.7888 - val_loss: 2.3082 - val_categorical_accuracy: 0.4600 - lr: 0.0100\n",
      "dict_keys(['loss', 'categorical_accuracy', 'val_loss', 'val_categorical_accuracy', 'lr'])\n"
     ]
    },
    {
     "data": {
      "image/png": "[encoded data removed]",
      "text/plain": [
       "<Figure size 432x288 with 1 Axes>"
      ]
     },
     "metadata": {
      "needs_background": "light"
     },
     "output_type": "display_data"
    },
    {
     "data": {
      "image/png": "[encoded data removed]",
      "text/plain": [
       "<Figure size 432x288 with 1 Axes>"
      ]
     },
     "metadata": {
      "needs_background": "light"
     },
     "output_type": "display_data"
    }
   ],
   "source": [
    "# Tryig to ru the same with full data for 5 epochs\n",
    "\n",
    "train_model(model, 'Convo3D', 'convo3D-model3', 10, False )"
   ]
  },
  {
   "cell_type": "markdown",
   "metadata": {},
   "source": [
    "#### Model is Still overfitting a bit although the loss is at a decreasing trend and it will decrease if we run this for more epochs\n",
    "#### Lets try and add LSTM layers to the 3D Convo"
   ]
  },
  {
   "cell_type": "markdown",
   "metadata": {},
   "source": [
    "## 3D Convo with LSTM"
   ]
  },
  {
   "cell_type": "code",
   "execution_count": 25,
   "metadata": {},
   "outputs": [
    {
     "ename": "ValueError",
     "evalue": "Input 0 of layer \"conv_lstm3d_1\" is incompatible with the layer: expected ndim=6, found ndim=5. Full shape received: (None, 18, 120, 120, 3)",
     "output_type": "error",
     "traceback": [
      "\u001b[0;31m---------------------------------------------------------------------------\u001b[0m",
      "\u001b[0;31mValueError\u001b[0m                                Traceback (most recent call last)",
      "\u001b[0;32m/tmp/ipykernel_4433/3169645839.py\u001b[0m in \u001b[0;36m<module>\u001b[0;34m\u001b[0m\n\u001b[1;32m      5\u001b[0m \u001b[0mmodel\u001b[0m \u001b[0;34m=\u001b[0m \u001b[0mSequential\u001b[0m\u001b[0;34m(\u001b[0m\u001b[0;34m)\u001b[0m\u001b[0;34m\u001b[0m\u001b[0;34m\u001b[0m\u001b[0m\n\u001b[1;32m      6\u001b[0m \u001b[0;34m\u001b[0m\u001b[0m\n\u001b[0;32m----> 7\u001b[0;31m \u001b[0mmodel\u001b[0m\u001b[0;34m.\u001b[0m\u001b[0madd\u001b[0m\u001b[0;34m(\u001b[0m\u001b[0mConvLSTM3D\u001b[0m\u001b[0;34m(\u001b[0m\u001b[0;36m32\u001b[0m\u001b[0;34m,\u001b[0m \u001b[0;34m(\u001b[0m\u001b[0;36m3\u001b[0m\u001b[0;34m,\u001b[0m \u001b[0;36m3\u001b[0m\u001b[0;34m,\u001b[0m \u001b[0;36m3\u001b[0m\u001b[0;34m)\u001b[0m\u001b[0;34m,\u001b[0m \u001b[0minput_shape\u001b[0m\u001b[0;34m=\u001b[0m\u001b[0minput_shape\u001b[0m\u001b[0;34m,\u001b[0m \u001b[0mactivation\u001b[0m\u001b[0;34m=\u001b[0m\u001b[0;34m'relu'\u001b[0m\u001b[0;34m,\u001b[0m \u001b[0mpadding\u001b[0m\u001b[0;34m=\u001b[0m\u001b[0;34m'valid'\u001b[0m\u001b[0;34m)\u001b[0m\u001b[0;34m)\u001b[0m\u001b[0;34m\u001b[0m\u001b[0;34m\u001b[0m\u001b[0m\n\u001b[0m\u001b[1;32m      8\u001b[0m \u001b[0mmodel\u001b[0m\u001b[0;34m.\u001b[0m\u001b[0madd\u001b[0m\u001b[0;34m(\u001b[0m\u001b[0mMaxPooling3D\u001b[0m\u001b[0;34m(\u001b[0m\u001b[0mpool_size\u001b[0m\u001b[0;34m=\u001b[0m\u001b[0;34m(\u001b[0m\u001b[0;36m2\u001b[0m\u001b[0;34m,\u001b[0m \u001b[0;36m2\u001b[0m\u001b[0;34m,\u001b[0m \u001b[0;36m2\u001b[0m\u001b[0;34m)\u001b[0m\u001b[0;34m)\u001b[0m\u001b[0;34m)\u001b[0m\u001b[0;34m\u001b[0m\u001b[0;34m\u001b[0m\u001b[0m\n\u001b[1;32m      9\u001b[0m \u001b[0mmodel\u001b[0m\u001b[0;34m.\u001b[0m\u001b[0madd\u001b[0m\u001b[0;34m(\u001b[0m\u001b[0mBatchNormalization\u001b[0m\u001b[0;34m(\u001b[0m\u001b[0;34m)\u001b[0m\u001b[0;34m)\u001b[0m\u001b[0;34m\u001b[0m\u001b[0;34m\u001b[0m\u001b[0m\n",
      "\u001b[0;32m/usr/local/lib/python3.8/dist-packages/tensorflow/python/training/tracking/base.py\u001b[0m in \u001b[0;36m_method_wrapper\u001b[0;34m(self, *args, **kwargs)\u001b[0m\n\u001b[1;32m    528\u001b[0m     \u001b[0mself\u001b[0m\u001b[0;34m.\u001b[0m\u001b[0m_self_setattr_tracking\u001b[0m \u001b[0;34m=\u001b[0m \u001b[0;32mFalse\u001b[0m  \u001b[0;31m# pylint: disable=protected-access\u001b[0m\u001b[0;34m\u001b[0m\u001b[0;34m\u001b[0m\u001b[0m\n\u001b[1;32m    529\u001b[0m     \u001b[0;32mtry\u001b[0m\u001b[0;34m:\u001b[0m\u001b[0;34m\u001b[0m\u001b[0;34m\u001b[0m\u001b[0m\n\u001b[0;32m--> 530\u001b[0;31m       \u001b[0mresult\u001b[0m \u001b[0;34m=\u001b[0m \u001b[0mmethod\u001b[0m\u001b[0;34m(\u001b[0m\u001b[0mself\u001b[0m\u001b[0;34m,\u001b[0m \u001b[0;34m*\u001b[0m\u001b[0margs\u001b[0m\u001b[0;34m,\u001b[0m \u001b[0;34m**\u001b[0m\u001b[0mkwargs\u001b[0m\u001b[0;34m)\u001b[0m\u001b[0;34m\u001b[0m\u001b[0;34m\u001b[0m\u001b[0m\n\u001b[0m\u001b[1;32m    531\u001b[0m     \u001b[0;32mfinally\u001b[0m\u001b[0;34m:\u001b[0m\u001b[0;34m\u001b[0m\u001b[0;34m\u001b[0m\u001b[0m\n\u001b[1;32m    532\u001b[0m       \u001b[0mself\u001b[0m\u001b[0;34m.\u001b[0m\u001b[0m_self_setattr_tracking\u001b[0m \u001b[0;34m=\u001b[0m \u001b[0mprevious_value\u001b[0m  \u001b[0;31m# pylint: disable=protected-access\u001b[0m\u001b[0;34m\u001b[0m\u001b[0;34m\u001b[0m\u001b[0m\n",
      "\u001b[0;32m/usr/local/lib/python3.8/dist-packages/keras/utils/traceback_utils.py\u001b[0m in \u001b[0;36merror_handler\u001b[0;34m(*args, **kwargs)\u001b[0m\n\u001b[1;32m     65\u001b[0m     \u001b[0;32mexcept\u001b[0m \u001b[0mException\u001b[0m \u001b[0;32mas\u001b[0m \u001b[0me\u001b[0m\u001b[0;34m:\u001b[0m  \u001b[0;31m# pylint: disable=broad-except\u001b[0m\u001b[0;34m\u001b[0m\u001b[0;34m\u001b[0m\u001b[0m\n\u001b[1;32m     66\u001b[0m       \u001b[0mfiltered_tb\u001b[0m \u001b[0;34m=\u001b[0m \u001b[0m_process_traceback_frames\u001b[0m\u001b[0;34m(\u001b[0m\u001b[0me\u001b[0m\u001b[0;34m.\u001b[0m\u001b[0m__traceback__\u001b[0m\u001b[0;34m)\u001b[0m\u001b[0;34m\u001b[0m\u001b[0;34m\u001b[0m\u001b[0m\n\u001b[0;32m---> 67\u001b[0;31m       \u001b[0;32mraise\u001b[0m \u001b[0me\u001b[0m\u001b[0;34m.\u001b[0m\u001b[0mwith_traceback\u001b[0m\u001b[0;34m(\u001b[0m\u001b[0mfiltered_tb\u001b[0m\u001b[0;34m)\u001b[0m \u001b[0;32mfrom\u001b[0m \u001b[0;32mNone\u001b[0m\u001b[0;34m\u001b[0m\u001b[0;34m\u001b[0m\u001b[0m\n\u001b[0m\u001b[1;32m     68\u001b[0m     \u001b[0;32mfinally\u001b[0m\u001b[0;34m:\u001b[0m\u001b[0;34m\u001b[0m\u001b[0;34m\u001b[0m\u001b[0m\n\u001b[1;32m     69\u001b[0m       \u001b[0;32mdel\u001b[0m \u001b[0mfiltered_tb\u001b[0m\u001b[0;34m\u001b[0m\u001b[0;34m\u001b[0m\u001b[0m\n",
      "\u001b[0;32m/usr/local/lib/python3.8/dist-packages/keras/engine/input_spec.py\u001b[0m in \u001b[0;36massert_input_compatibility\u001b[0;34m(input_spec, inputs, layer_name)\u001b[0m\n\u001b[1;32m    211\u001b[0m       \u001b[0mndim\u001b[0m \u001b[0;34m=\u001b[0m \u001b[0mshape\u001b[0m\u001b[0;34m.\u001b[0m\u001b[0mrank\u001b[0m\u001b[0;34m\u001b[0m\u001b[0;34m\u001b[0m\u001b[0m\n\u001b[1;32m    212\u001b[0m       \u001b[0;32mif\u001b[0m \u001b[0mndim\u001b[0m \u001b[0;34m!=\u001b[0m \u001b[0mspec\u001b[0m\u001b[0;34m.\u001b[0m\u001b[0mndim\u001b[0m\u001b[0;34m:\u001b[0m\u001b[0;34m\u001b[0m\u001b[0;34m\u001b[0m\u001b[0m\n\u001b[0;32m--> 213\u001b[0;31m         raise ValueError(f'Input {input_index} of layer \"{layer_name}\" '\n\u001b[0m\u001b[1;32m    214\u001b[0m                          \u001b[0;34m'is incompatible with the layer: '\u001b[0m\u001b[0;34m\u001b[0m\u001b[0;34m\u001b[0m\u001b[0m\n\u001b[1;32m    215\u001b[0m                          \u001b[0;34mf'expected ndim={spec.ndim}, found ndim={ndim}. '\u001b[0m\u001b[0;34m\u001b[0m\u001b[0;34m\u001b[0m\u001b[0m\n",
      "\u001b[0;31mValueError\u001b[0m: Input 0 of layer \"conv_lstm3d_1\" is incompatible with the layer: expected ndim=6, found ndim=5. Full shape received: (None, 18, 120, 120, 3)"
     ]
    }
   ],
   "source": [
    "from keras.layers import ConvLSTM3D, Bidirectional, LSTM, Reshape\n",
    "from keras.models import Sequential\n",
    "input_shape = (18, 120, 120, 3)\n",
    "\n",
    "model = Sequential()\n",
    "\n",
    "model.add(ConvLSTM3D(32, (3, 3, 3), input_shape=input_shape, activation='relu', padding='valid'))\n",
    "model.add(MaxPooling3D(pool_size=(2, 2, 2)))\n",
    "model.add(BatchNormalization())\n",
    "\n",
    "model.add(ConvLSTM3D(64, (3, 3, 3), activation='relu'))\n",
    "model.add(MaxPooling3D(pool_size=(2, 2, 2)))\n",
    "model.add(BatchNormalization())\n",
    "\n",
    "model.add(ConvLSTM3D(128, (3, 3, 3), activation='relu'))\n",
    "model.add(MaxPooling3D(pool_size=(2, 2, 2), padding='same'))\n",
    "model.add(BatchNormalization())\n",
    "\n",
    "shape = model.layers[-1].output_shape\n",
    "model.add(Reshape((shape[-1],shape[1]*shape[2]*shape[3])))\n",
    "\n",
    "model.add(LSTM(32, return_sequences=True))\n",
    "model.add(Dropout(.5))\n",
    "\n",
    "model.add((Flatten()))\n",
    "\n",
    "model.add(Dense(512, activation='relu'))\n",
    "model.add(Dropout(.5))\n",
    "model.add(Dense(512, activation='relu'))\n",
    "model.add(Dropout(.5))\n",
    "\n",
    "model.add(Dense(5, activation='softmax'))"
   ]
  },
  {
   "cell_type": "code",
   "execution_count": null,
   "metadata": {},
   "outputs": [],
   "source": []
  }
 ],
 "metadata": {
  "kernelspec": {
   "display_name": "Python 3 (ipykernel)",
   "language": "python",
   "name": "python3"
  },
  "language_info": {
   "codemirror_mode": {
    "name": "ipython",
    "version": 3
   },
   "file_extension": ".py",
   "mimetype": "text/x-python",
   "name": "python",
   "nbconvert_exporter": "python",
   "pygments_lexer": "ipython3",
   "version": "3.8.10"
  }
 },
 "nbformat": 4,
 "nbformat_minor": 4
}
